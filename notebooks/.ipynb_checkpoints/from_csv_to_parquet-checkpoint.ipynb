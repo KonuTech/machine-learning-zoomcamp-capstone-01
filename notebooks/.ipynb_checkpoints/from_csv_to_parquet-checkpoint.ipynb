{
 "cells": [
  {
   "cell_type": "code",
   "execution_count": 1,
   "id": "95c645e7",
   "metadata": {},
   "outputs": [],
   "source": [
    "import gc\n",
    "import os\n",
    "import psutil\n",
    "import pyarrow as pa"
   ]
  },
  {
   "cell_type": "code",
   "execution_count": 3,
   "id": "770cc3c0",
   "metadata": {},
   "outputs": [
    {
     "name": "stdout",
     "output_type": "stream",
     "text": [
      "Current working directory: C:\\Users\\KonuTech\\zoomcamp-capstone-01\\notebooks\n"
     ]
    }
   ],
   "source": [
    "current_directory = os.getcwd()\n",
    "print(\"Current working directory:\", current_directory)"
   ]
  },
  {
   "cell_type": "code",
   "execution_count": 4,
   "id": "60159b94",
   "metadata": {},
   "outputs": [
    {
     "name": "stdout",
     "output_type": "stream",
     "text": [
      "total 42G\n",
      "drwxr-xr-x 1 KonuTech 197121    0 Oct 28 21:37 .\n",
      "drwxr-xr-x 1 KonuTech 197121    0 Oct 28 21:21 ..\n",
      "drwxr-xr-x 1 KonuTech 197121    0 Oct 28 21:45 parquet_partitions\n",
      "-rw-r--r-- 1 KonuTech 197121  60M May 20  2022 sample_submission.csv\n",
      "-rw-r--r-- 1 KonuTech 197121  32G May 20  2022 test_data.csv\n",
      "-rw-r--r-- 1 KonuTech 197121  16G May 20  2022 train_data.csv\n",
      "-rw-r--r-- 1 KonuTech 197121 6.5G Oct 28 21:42 train_data_combined.parquet\n",
      "-rw-r--r-- 1 KonuTech 197121  30M May 20  2022 train_labels.csv\n"
     ]
    }
   ],
   "source": [
    "!ls -lah \"C:\\Users\\KonuTech\\zoomcamp-capstone-01\\data\""
   ]
  },
  {
   "cell_type": "code",
   "execution_count": 5,
   "id": "5f9a7d4b",
   "metadata": {},
   "outputs": [],
   "source": [
    "# Function to get memory usage\n",
    "def get_memory_usage():\n",
    "    process = psutil.Process()\n",
    "    mem_info = process.memory_info()\n",
    "    return mem_info.rss / (1024 * 1024)  # Convert to megabytes"
   ]
  },
  {
   "cell_type": "code",
   "execution_count": 6,
   "id": "94c7baeb",
   "metadata": {},
   "outputs": [
    {
     "data": {
      "text/plain": [
       "'C:\\\\Users\\\\KonuTech\\\\zoomcamp-capstone-01\\\\data'"
      ]
     },
     "execution_count": 6,
     "metadata": {},
     "output_type": "execute_result"
    }
   ],
   "source": [
    "# Define the directory path\n",
    "data_dir = os.path.join('C:\\\\', 'Users', 'KonuTech', 'zoomcamp-capstone-01', 'data')\n",
    "data_dir"
   ]
  },
  {
   "cell_type": "code",
   "execution_count": 7,
   "id": "d5cb18c8",
   "metadata": {},
   "outputs": [],
   "source": [
    "# Step 1: Read the CSV file\n",
    "csv_file = 'train_data.csv'\n",
    "chunk_size = 10000  # Adjust the chunk size as needed"
   ]
  },
  {
   "cell_type": "code",
   "execution_count": 8,
   "id": "34dffcd2-d975-49b0-925f-2979c107242f",
   "metadata": {},
   "outputs": [],
   "source": [
    "# Create a directory to store Parquet partitions\n",
    "parquet_dir = os.path.join(data_dir, 'parquet_partitions')\n",
    "os.makedirs(parquet_dir, exist_ok=True)"
   ]
  },
  {
   "cell_type": "code",
   "execution_count": 10,
   "id": "57d69a21",
   "metadata": {},
   "outputs": [],
   "source": [
    "# Step 2: Initialize an empty list to store the Parquet partition file paths\n",
    "parquet_file_paths = []"
   ]
  },
  {
   "cell_type": "code",
   "execution_count": null,
   "id": "3c2397cd",
   "metadata": {
    "scrolled": true
   },
   "outputs": [],
   "source": [
    "for i, chunk in enumerate(pd.read_csv(os.path.join(data_dir, csv_file), chunksize=chunk_size)):\n",
    "    # Display memory usage before reading the chunk\n",
    "    before_memory = get_memory_usage()\n",
    "    \n",
    "    # Save the chunk as a Parquet partition\n",
    "    parquet_partition_file = os.path.join(parquet_dir, f'chunk_{i}.parquet')\n",
    "    chunk.to_parquet(parquet_partition_file)\n",
    "    \n",
    "    # Append the Parquet partition file path to the list\n",
    "    parquet_file_paths.append(parquet_partition_file)\n",
    "    \n",
    "    # Display memory usage after reading and saving the chunk\n",
    "    after_memory = get_memory_usage()\n",
    "    print(f\"Memory usage before chunk: {before_memory:.2f} MB\")\n",
    "    print(f\"Memory usage after chunk: {after_memory:.2f} MB\")"
   ]
  },
  {
   "cell_type": "code",
   "execution_count": null,
   "id": "ddf913d3",
   "metadata": {},
   "outputs": [],
   "source": [
    "# Step 3: Combine all Parquet partitions into a single DataFrame\n",
    "parquet_partitions = [pd.read_parquet(partition) for partition in parquet_file_paths]\n",
    "df = pd.concat(parquet_partitions, ignore_index=True)"
   ]
  },
  {
   "cell_type": "code",
   "execution_count": 13,
   "id": "b47d7bed",
   "metadata": {},
   "outputs": [],
   "source": [
    "# Step 4: Convert and save the combined DataFrame as a single Parquet file\n",
    "combined_parquet_file = 'train_data_combined.parquet'"
   ]
  },
  {
   "cell_type": "code",
   "execution_count": null,
   "id": "30daecc6-f1a0-4120-8628-823d40010f18",
   "metadata": {},
   "outputs": [],
   "source": [
    "df.to_parquet(os.path.join(data_dir, combined_parquet_file))"
   ]
  },
  {
   "cell_type": "code",
   "execution_count": 11,
   "id": "9602a827-b601-4de6-9efa-6488b20e1e46",
   "metadata": {},
   "outputs": [],
   "source": [
    "# Step 5: Remove individual Parquet partitions\n",
    "for partition_file in parquet_file_paths:\n",
    "    os.remove(partition_file)"
   ]
  },
  {
   "cell_type": "code",
   "execution_count": 14,
   "id": "0f183f17",
   "metadata": {},
   "outputs": [],
   "source": [
    "# Step 6: EDA on the combined Parquet file\n",
    "parquet_df = pd.read_parquet(os.path.join(data_dir, combined_parquet_file))  # Read the combined Parquet file"
   ]
  },
  {
   "cell_type": "code",
   "execution_count": 15,
   "id": "776aef34",
   "metadata": {},
   "outputs": [
    {
     "name": "stdout",
     "output_type": "stream",
     "text": [
      "customer_ID     object\n",
      "S_2             object\n",
      "P_2            float64\n",
      "D_39           float64\n",
      "B_1            float64\n",
      "                ...   \n",
      "D_141          float64\n",
      "D_142          float64\n",
      "D_143          float64\n",
      "D_144          float64\n",
      "D_145          float64\n",
      "Length: 190, dtype: object\n",
      "                P_2          D_39           B_1           B_2           R_1  \\\n",
      "count  5.485466e+06  5.531451e+06  5.531451e+06  5.529435e+06  5.531451e+06   \n",
      "mean   6.563340e-01  1.531172e-01  1.240100e-01  6.214887e-01  7.880270e-02   \n",
      "std    2.446494e-01  2.700709e-01  2.119869e-01  4.014877e-01  2.263971e-01   \n",
      "min   -4.589548e-01  5.026190e-09 -7.588799e+00  9.192280e-09  1.534223e-09   \n",
      "25%    4.803307e-01  4.528464e-03  8.863645e-03  1.053313e-01  2.895934e-03   \n",
      "50%    6.942950e-01  9.056902e-03  3.132968e-02  8.143328e-01  5.782230e-03   \n",
      "75%    8.648159e-01  2.366407e-01  1.259019e-01  1.002403e+00  8.660590e-03   \n",
      "max    1.010000e+00  5.389619e+00  1.324060e+00  1.010000e+00  3.256284e+00   \n",
      "\n",
      "                S_3          D_41           B_3           D_42          D_43  \\\n",
      "count  4.510907e+06  5.529435e+06  5.529435e+06  791314.000000  3.873055e+06   \n",
      "mean   2.258455e-01  5.978469e-02  1.325389e-01       0.184974  1.546841e-01   \n",
      "std    1.933475e-01  2.025443e-01  2.349929e-01       0.228185  2.133977e-01   \n",
      "min   -6.271320e-01  5.566545e-10  6.285293e-09      -0.000454  1.154550e-07   \n",
      "25%    1.272588e-01  2.873244e-03  5.227570e-03       0.037516  4.227546e-02   \n",
      "50%    1.639082e-01  5.746725e-03  9.777230e-03       0.120519  8.851245e-02   \n",
      "75%    2.581017e-01  8.615665e-03  1.550507e-01       0.250869  1.843206e-01   \n",
      "max    5.482888e+00  8.988807e+00  1.625262e+00       4.191119  1.011162e+01   \n",
      "\n",
      "       ...         D_136         D_137         D_138         D_139  \\\n",
      "count  ...  1.946990e+05  1.946990e+05  1.946990e+05  5.429903e+06   \n",
      "mean   ...  2.427725e-01  1.424409e-02  1.646183e-01  1.789305e-01   \n",
      "std    ...  2.101320e-01  9.571115e-02  2.670208e-01  3.790614e-01   \n",
      "min    ...  6.316773e-08  1.078787e-08  3.307923e-08  3.767347e-10   \n",
      "25%    ...  9.314305e-03  2.532470e-03  3.517452e-03  3.027212e-03   \n",
      "50%    ...  2.539468e-01  5.069830e-03  7.037814e-03  6.053010e-03   \n",
      "75%    ...  2.582450e-01  7.573434e-03  5.015468e-01  9.080455e-03   \n",
      "max    ...  1.759910e+00  1.009998e+00  3.005383e+00  1.010000e+00   \n",
      "\n",
      "              D_140         D_141          D_142         D_143         D_144  \\\n",
      "count  5.490819e+06  5.429903e+06  944408.000000  5.429903e+06  5.490724e+06   \n",
      "mean   2.664348e-02  1.645212e-01       0.390799  1.788022e-01  5.238952e-02   \n",
      "std    1.455480e-01  3.482771e-01       0.236182  3.789498e-01  1.825135e-01   \n",
      "min    3.725073e-09  1.650100e-10      -0.014539  5.549692e-09  2.500991e-09   \n",
      "25%    2.555848e-03  3.026087e-03       0.199399  3.028116e-03  2.752896e-03   \n",
      "50%    5.110523e-03  6.051590e-03       0.382136  6.053151e-03  5.508129e-03   \n",
      "75%    7.663697e-03  9.078915e-03       0.559308  9.076287e-03  8.260447e-03   \n",
      "max    1.010000e+00  1.339910e+00       2.229368  1.010000e+00  1.343331e+00   \n",
      "\n",
      "              D_145  \n",
      "count  5.429903e+06  \n",
      "mean   6.233496e-02  \n",
      "std    1.934937e-01  \n",
      "min    1.226024e-09  \n",
      "25%    3.028347e-03  \n",
      "50%    6.053248e-03  \n",
      "75%    9.080930e-03  \n",
      "max    4.827630e+00  \n",
      "\n",
      "[8 rows x 186 columns]\n"
     ]
    }
   ],
   "source": [
    "print(parquet_df.dtypes)\n",
    "print(parquet_df.describe())"
   ]
  },
  {
   "cell_type": "code",
   "execution_count": 16,
   "id": "c4e38706",
   "metadata": {},
   "outputs": [
    {
     "data": {
      "text/plain": [
       "195"
      ]
     },
     "execution_count": 16,
     "metadata": {},
     "output_type": "execute_result"
    }
   ],
   "source": [
    "# Trigger garbage collection to clear unreferenced objects\n",
    "gc.collect()"
   ]
  },
  {
   "cell_type": "code",
   "execution_count": 18,
   "id": "55a3fbff",
   "metadata": {},
   "outputs": [
    {
     "name": "stdout",
     "output_type": "stream",
     "text": [
      "<class 'pandas.core.frame.DataFrame'>\n",
      "RangeIndex: 5531451 entries, 0 to 5531450\n",
      "Data columns (total 190 columns):\n",
      " #    Column       Dtype  \n",
      "---   ------       -----  \n",
      " 0    customer_ID  object \n",
      " 1    S_2          object \n",
      " 2    P_2          float64\n",
      " 3    D_39         float64\n",
      " 4    B_1          float64\n",
      " 5    B_2          float64\n",
      " 6    R_1          float64\n",
      " 7    S_3          float64\n",
      " 8    D_41         float64\n",
      " 9    B_3          float64\n",
      " 10   D_42         float64\n",
      " 11   D_43         float64\n",
      " 12   D_44         float64\n",
      " 13   B_4          float64\n",
      " 14   D_45         float64\n",
      " 15   B_5          float64\n",
      " 16   R_2          float64\n",
      " 17   D_46         float64\n",
      " 18   D_47         float64\n",
      " 19   D_48         float64\n",
      " 20   D_49         float64\n",
      " 21   B_6          float64\n",
      " 22   B_7          float64\n",
      " 23   B_8          float64\n",
      " 24   D_50         float64\n",
      " 25   D_51         float64\n",
      " 26   B_9          float64\n",
      " 27   R_3          float64\n",
      " 28   D_52         float64\n",
      " 29   P_3          float64\n",
      " 30   B_10         float64\n",
      " 31   D_53         float64\n",
      " 32   S_5          float64\n",
      " 33   B_11         float64\n",
      " 34   S_6          float64\n",
      " 35   D_54         float64\n",
      " 36   R_4          float64\n",
      " 37   S_7          float64\n",
      " 38   B_12         float64\n",
      " 39   S_8          float64\n",
      " 40   D_55         float64\n",
      " 41   D_56         float64\n",
      " 42   B_13         float64\n",
      " 43   R_5          float64\n",
      " 44   D_58         float64\n",
      " 45   S_9          float64\n",
      " 46   B_14         float64\n",
      " 47   D_59         float64\n",
      " 48   D_60         float64\n",
      " 49   D_61         float64\n",
      " 50   B_15         float64\n",
      " 51   S_11         float64\n",
      " 52   D_62         float64\n",
      " 53   D_63         object \n",
      " 54   D_64         object \n",
      " 55   D_65         float64\n",
      " 56   B_16         float64\n",
      " 57   B_17         float64\n",
      " 58   B_18         float64\n",
      " 59   B_19         float64\n",
      " 60   D_66         float64\n",
      " 61   B_20         float64\n",
      " 62   D_68         float64\n",
      " 63   S_12         float64\n",
      " 64   R_6          float64\n",
      " 65   S_13         float64\n",
      " 66   B_21         float64\n",
      " 67   D_69         float64\n",
      " 68   B_22         float64\n",
      " 69   D_70         float64\n",
      " 70   D_71         float64\n",
      " 71   D_72         float64\n",
      " 72   S_15         float64\n",
      " 73   B_23         float64\n",
      " 74   D_73         float64\n",
      " 75   P_4          float64\n",
      " 76   D_74         float64\n",
      " 77   D_75         float64\n",
      " 78   D_76         float64\n",
      " 79   B_24         float64\n",
      " 80   R_7          float64\n",
      " 81   D_77         float64\n",
      " 82   B_25         float64\n",
      " 83   B_26         float64\n",
      " 84   D_78         float64\n",
      " 85   D_79         float64\n",
      " 86   R_8          float64\n",
      " 87   R_9          float64\n",
      " 88   S_16         float64\n",
      " 89   D_80         float64\n",
      " 90   R_10         float64\n",
      " 91   R_11         float64\n",
      " 92   B_27         float64\n",
      " 93   D_81         float64\n",
      " 94   D_82         float64\n",
      " 95   S_17         float64\n",
      " 96   R_12         float64\n",
      " 97   B_28         float64\n",
      " 98   R_13         float64\n",
      " 99   D_83         float64\n",
      " 100  R_14         float64\n",
      " 101  R_15         float64\n",
      " 102  D_84         float64\n",
      " 103  R_16         float64\n",
      " 104  B_29         float64\n",
      " 105  B_30         float64\n",
      " 106  S_18         float64\n",
      " 107  D_86         float64\n",
      " 108  D_87         float64\n",
      " 109  R_17         float64\n",
      " 110  R_18         float64\n",
      " 111  D_88         float64\n",
      " 112  B_31         int64  \n",
      " 113  S_19         float64\n",
      " 114  R_19         float64\n",
      " 115  B_32         float64\n",
      " 116  S_20         float64\n",
      " 117  R_20         float64\n",
      " 118  R_21         float64\n",
      " 119  B_33         float64\n",
      " 120  D_89         float64\n",
      " 121  R_22         float64\n",
      " 122  R_23         float64\n",
      " 123  D_91         float64\n",
      " 124  D_92         float64\n",
      " 125  D_93         float64\n",
      " 126  D_94         float64\n",
      " 127  R_24         float64\n",
      " 128  R_25         float64\n",
      " 129  D_96         float64\n",
      " 130  S_22         float64\n",
      " 131  S_23         float64\n",
      " 132  S_24         float64\n",
      " 133  S_25         float64\n",
      " 134  S_26         float64\n",
      " 135  D_102        float64\n",
      " 136  D_103        float64\n",
      " 137  D_104        float64\n",
      " 138  D_105        float64\n",
      " 139  D_106        float64\n",
      " 140  D_107        float64\n",
      " 141  B_36         float64\n",
      " 142  B_37         float64\n",
      " 143  R_26         float64\n",
      " 144  R_27         float64\n",
      " 145  B_38         float64\n",
      " 146  D_108        float64\n",
      " 147  D_109        float64\n",
      " 148  D_110        float64\n",
      " 149  D_111        float64\n",
      " 150  B_39         float64\n",
      " 151  D_112        float64\n",
      " 152  B_40         float64\n",
      " 153  S_27         float64\n",
      " 154  D_113        float64\n",
      " 155  D_114        float64\n",
      " 156  D_115        float64\n",
      " 157  D_116        float64\n",
      " 158  D_117        float64\n",
      " 159  D_118        float64\n",
      " 160  D_119        float64\n",
      " 161  D_120        float64\n",
      " 162  D_121        float64\n",
      " 163  D_122        float64\n",
      " 164  D_123        float64\n",
      " 165  D_124        float64\n",
      " 166  D_125        float64\n",
      " 167  D_126        float64\n",
      " 168  D_127        float64\n",
      " 169  D_128        float64\n",
      " 170  D_129        float64\n",
      " 171  B_41         float64\n",
      " 172  B_42         float64\n",
      " 173  D_130        float64\n",
      " 174  D_131        float64\n",
      " 175  D_132        float64\n",
      " 176  D_133        float64\n",
      " 177  R_28         float64\n",
      " 178  D_134        float64\n",
      " 179  D_135        float64\n",
      " 180  D_136        float64\n",
      " 181  D_137        float64\n",
      " 182  D_138        float64\n",
      " 183  D_139        float64\n",
      " 184  D_140        float64\n",
      " 185  D_141        float64\n",
      " 186  D_142        float64\n",
      " 187  D_143        float64\n",
      " 188  D_144        float64\n",
      " 189  D_145        float64\n",
      "dtypes: float64(185), int64(1), object(4)\n",
      "memory usage: 7.8+ GB\n"
     ]
    }
   ],
   "source": [
    "parquet_df.info(verbose=True)"
   ]
  },
  {
   "cell_type": "code",
   "execution_count": null,
   "id": "acf1ca4f-3207-40d7-80e8-0559dcc93547",
   "metadata": {},
   "outputs": [],
   "source": []
  }
 ],
 "metadata": {
  "kernelspec": {
   "display_name": "Python 3 (ipykernel)",
   "language": "python",
   "name": "python3"
  },
  "language_info": {
   "codemirror_mode": {
    "name": "ipython",
    "version": 3
   },
   "file_extension": ".py",
   "mimetype": "text/x-python",
   "name": "python",
   "nbconvert_exporter": "python",
   "pygments_lexer": "ipython3",
   "version": "3.9.3"
  }
 },
 "nbformat": 4,
 "nbformat_minor": 5
}
