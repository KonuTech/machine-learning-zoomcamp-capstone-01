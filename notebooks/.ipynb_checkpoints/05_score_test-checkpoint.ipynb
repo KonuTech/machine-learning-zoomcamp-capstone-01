{
 "cells": [
  {
   "cell_type": "code",
   "execution_count": 1,
   "id": "43816df6-14c1-4dcd-a397-cf2f73b344da",
   "metadata": {},
   "outputs": [
    {
     "data": {
      "text/plain": [
       "4"
      ]
     },
     "execution_count": 1,
     "metadata": {},
     "output_type": "execute_result"
    }
   ],
   "source": [
    "2+2"
   ]
  },
  {
   "cell_type": "code",
   "execution_count": 4,
   "id": "6bc23f07-ccdc-41af-abdc-76c48a528795",
   "metadata": {},
   "outputs": [],
   "source": [
    "import os\n",
    "import pandas as pd"
   ]
  },
  {
   "cell_type": "code",
   "execution_count": 5,
   "id": "78617be1-b564-43bb-a433-c820d122e75e",
   "metadata": {},
   "outputs": [],
   "source": [
    "pd.set_option('display.max_columns', None)"
   ]
  },
  {
   "cell_type": "code",
   "execution_count": 6,
   "id": "0d5bfed0-ff5e-474e-9c7c-48fae3dc5755",
   "metadata": {},
   "outputs": [
    {
     "data": {
      "text/plain": [
       "'C:\\\\Users\\\\KonuTech\\\\zoomcamp-capstone-01\\\\data'"
      ]
     },
     "execution_count": 6,
     "metadata": {},
     "output_type": "execute_result"
    }
   ],
   "source": [
    "# Define the directory path\n",
    "data_dir = os.path.join('C:\\\\', 'Users', 'KonuTech', 'zoomcamp-capstone-01', 'data')\n",
    "data_dir"
   ]
  },
  {
   "cell_type": "code",
   "execution_count": 7,
   "id": "21501938-6eee-43e8-9915-3b546d3ce3b7",
   "metadata": {},
   "outputs": [],
   "source": [
    "test_data_csv_file = 'train_data_downsampled.csv'"
   ]
  },
  {
   "cell_type": "code",
   "execution_count": null,
   "id": "571791d7-ce57-4734-8c4d-99510a890c91",
   "metadata": {},
   "outputs": [],
   "source": [
    "# Load the training data\n",
    "test_data = pd.read_csv(os.path.join(data_dir, test_data_csv_file))"
   ]
  },
  {
   "cell_type": "code",
   "execution_count": null,
   "id": "afa4292f-d04a-40c1-b37f-f670a1f64a95",
   "metadata": {},
   "outputs": [],
   "source": [
    "test_data.info(verbose=True)"
   ]
  },
  {
   "cell_type": "code",
   "execution_count": null,
   "id": "593bbb14-6f3b-4e3e-9854-17de18c277df",
   "metadata": {},
   "outputs": [],
   "source": []
  }
 ],
 "metadata": {
  "kernelspec": {
   "display_name": "Python 3 (ipykernel)",
   "language": "python",
   "name": "python3"
  },
  "language_info": {
   "codemirror_mode": {
    "name": "ipython",
    "version": 3
   },
   "file_extension": ".py",
   "mimetype": "text/x-python",
   "name": "python",
   "nbconvert_exporter": "python",
   "pygments_lexer": "ipython3",
   "version": "3.9.3"
  }
 },
 "nbformat": 4,
 "nbformat_minor": 5
}
