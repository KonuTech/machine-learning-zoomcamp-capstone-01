{
 "cells": [
  {
   "cell_type": "markdown",
   "id": "5bdcaab6-dcc1-4e61-b78b-f4576b2d2c57",
   "metadata": {},
   "source": [
    "https://www.kaggle.com/competitions/amex-default-prediction/data"
   ]
  },
  {
   "cell_type": "code",
   "execution_count": 1,
   "id": "766e375d-6543-4dcd-92eb-6b3372d8abe9",
   "metadata": {},
   "outputs": [],
   "source": [
    "import os\n",
    "import pyarrow as pa\n",
    "import pandas as pd\n",
    "import shutil"
   ]
  },
  {
   "cell_type": "code",
   "execution_count": 2,
   "id": "7a5d9ebb-bd14-4843-8c01-9403ca991701",
   "metadata": {},
   "outputs": [],
   "source": [
    "import joblib\n",
    "import xgboost as xgb"
   ]
  },
  {
   "cell_type": "code",
   "execution_count": 3,
   "id": "4df8a1bd-924d-4d83-be0c-192f050368df",
   "metadata": {},
   "outputs": [],
   "source": [
    "import pickle\n",
    "from sklearn.impute import SimpleImputer\n",
    "from sklearn.feature_extraction import DictVectorizer"
   ]
  },
  {
   "cell_type": "code",
   "execution_count": 4,
   "id": "3da6c9ee-04fe-4d97-bbcf-bd20c827b935",
   "metadata": {},
   "outputs": [],
   "source": [
    "def score_xgb_model(model_file, input_data, columns_used):\n",
    "    # Load the XGBoost model from the specified file\n",
    "    xgb_model = joblib.load(model_file)\n",
    "    \n",
    "    # Ensure the input DataFrame contains only the specified columns\n",
    "    input_data = input_data[columns_used]\n",
    "    \n",
    "    # Make predictions using the loaded model\n",
    "    # predictions = xgb_model.predict(input_data)\n",
    "    predictions = xgb_model.predict_proba(input_data)  # Use predict_proba to get probabilities\n",
    "\n",
    "    # Extract the probability of the positive class (assuming binary classification)\n",
    "    probabilities = predictions[:, 1]\n",
    "    \n",
    "    # Add predictions to the input data DataFrame\n",
    "    # input_data['prediction'] = predictions\n",
    "\n",
    "    # Add probabilities to the input data DataFrame\n",
    "    input_data['prediction'] = probabilities\n",
    "    \n",
    "    return input_data"
   ]
  },
  {
   "cell_type": "code",
   "execution_count": 5,
   "id": "6e24060d-9024-4370-8cb3-1478cebe1183",
   "metadata": {},
   "outputs": [
    {
     "data": {
      "text/plain": [
       "'C:\\\\Users\\\\KonuTech\\\\zoomcamp-capstone-01\\\\data'"
      ]
     },
     "execution_count": 5,
     "metadata": {},
     "output_type": "execute_result"
    }
   ],
   "source": [
    "# Define the directory path\n",
    "data_dir = os.path.join('C:\\\\', 'Users', 'KonuTech', 'zoomcamp-capstone-01', 'data')\n",
    "data_dir"
   ]
  },
  {
   "cell_type": "code",
   "execution_count": 6,
   "id": "f1b9c7db-bf8b-4619-951a-677a04bc29be",
   "metadata": {},
   "outputs": [],
   "source": [
    "# Step 4: Convert and save the combined DataFrame as a single Parquet file\n",
    "combined_parquet_file = 'test_data.parquet'"
   ]
  },
  {
   "cell_type": "code",
   "execution_count": 7,
   "id": "2127fd86-3dc6-4642-86be-5f7ff589d041",
   "metadata": {},
   "outputs": [],
   "source": [
    "# Step 6: EDA on the combined Parquet file\n",
    "parquet_df = pd.read_parquet(os.path.join(data_dir, combined_parquet_file))  # Read the combined Parquet file"
   ]
  },
  {
   "cell_type": "code",
   "execution_count": 8,
   "id": "13ed00a1-ba24-48dc-92e1-573b53190f9f",
   "metadata": {},
   "outputs": [],
   "source": [
    "# Shuffle the entire DataFrame randomly\n",
    "parquet_df = parquet_df.sample(frac=1, random_state=42).reset_index(drop=True)"
   ]
  },
  {
   "cell_type": "code",
   "execution_count": 9,
   "id": "aca73b74-39e0-4499-b2de-50f7d33e7937",
   "metadata": {},
   "outputs": [],
   "source": [
    "unique_clients_df = parquet_df.drop_duplicates(subset='customer_ID', keep='first')"
   ]
  },
  {
   "cell_type": "code",
   "execution_count": 10,
   "id": "1c88c1f6-275b-40ab-8ee4-3c37710eb26d",
   "metadata": {},
   "outputs": [
    {
     "name": "stdout",
     "output_type": "stream",
     "text": [
      "<class 'pandas.core.frame.DataFrame'>\n",
      "Index: 924621 entries, 0 to 11363265\n",
      "Data columns (total 190 columns):\n",
      " #    Column       Dtype  \n",
      "---   ------       -----  \n",
      " 0    customer_ID  object \n",
      " 1    S_2          object \n",
      " 2    P_2          float64\n",
      " 3    D_39         float64\n",
      " 4    B_1          float64\n",
      " 5    B_2          float64\n",
      " 6    R_1          float64\n",
      " 7    S_3          float64\n",
      " 8    D_41         float64\n",
      " 9    B_3          float64\n",
      " 10   D_42         float64\n",
      " 11   D_43         float64\n",
      " 12   D_44         float64\n",
      " 13   B_4          float64\n",
      " 14   D_45         float64\n",
      " 15   B_5          float64\n",
      " 16   R_2          float64\n",
      " 17   D_46         float64\n",
      " 18   D_47         float64\n",
      " 19   D_48         float64\n",
      " 20   D_49         float64\n",
      " 21   B_6          float64\n",
      " 22   B_7          float64\n",
      " 23   B_8          float64\n",
      " 24   D_50         float64\n",
      " 25   D_51         float64\n",
      " 26   B_9          float64\n",
      " 27   R_3          float64\n",
      " 28   D_52         float64\n",
      " 29   P_3          float64\n",
      " 30   B_10         float64\n",
      " 31   D_53         float64\n",
      " 32   S_5          float64\n",
      " 33   B_11         float64\n",
      " 34   S_6          float64\n",
      " 35   D_54         float64\n",
      " 36   R_4          float64\n",
      " 37   S_7          float64\n",
      " 38   B_12         float64\n",
      " 39   S_8          float64\n",
      " 40   D_55         float64\n",
      " 41   D_56         float64\n",
      " 42   B_13         float64\n",
      " 43   R_5          float64\n",
      " 44   D_58         float64\n",
      " 45   S_9          float64\n",
      " 46   B_14         float64\n",
      " 47   D_59         float64\n",
      " 48   D_60         float64\n",
      " 49   D_61         float64\n",
      " 50   B_15         float64\n",
      " 51   S_11         float64\n",
      " 52   D_62         float64\n",
      " 53   D_63         object \n",
      " 54   D_64         object \n",
      " 55   D_65         float64\n",
      " 56   B_16         float64\n",
      " 57   B_17         float64\n",
      " 58   B_18         float64\n",
      " 59   B_19         float64\n",
      " 60   D_66         float64\n",
      " 61   B_20         float64\n",
      " 62   D_68         float64\n",
      " 63   S_12         float64\n",
      " 64   R_6          float64\n",
      " 65   S_13         float64\n",
      " 66   B_21         float64\n",
      " 67   D_69         float64\n",
      " 68   B_22         float64\n",
      " 69   D_70         float64\n",
      " 70   D_71         float64\n",
      " 71   D_72         float64\n",
      " 72   S_15         float64\n",
      " 73   B_23         float64\n",
      " 74   D_73         float64\n",
      " 75   P_4          float64\n",
      " 76   D_74         float64\n",
      " 77   D_75         float64\n",
      " 78   D_76         float64\n",
      " 79   B_24         float64\n",
      " 80   R_7          float64\n",
      " 81   D_77         float64\n",
      " 82   B_25         float64\n",
      " 83   B_26         float64\n",
      " 84   D_78         float64\n",
      " 85   D_79         float64\n",
      " 86   R_8          float64\n",
      " 87   R_9          float64\n",
      " 88   S_16         float64\n",
      " 89   D_80         float64\n",
      " 90   R_10         float64\n",
      " 91   R_11         float64\n",
      " 92   B_27         float64\n",
      " 93   D_81         float64\n",
      " 94   D_82         float64\n",
      " 95   S_17         float64\n",
      " 96   R_12         float64\n",
      " 97   B_28         float64\n",
      " 98   R_13         float64\n",
      " 99   D_83         float64\n",
      " 100  R_14         float64\n",
      " 101  R_15         float64\n",
      " 102  D_84         float64\n",
      " 103  R_16         float64\n",
      " 104  B_29         float64\n",
      " 105  B_30         float64\n",
      " 106  S_18         float64\n",
      " 107  D_86         float64\n",
      " 108  D_87         float64\n",
      " 109  R_17         float64\n",
      " 110  R_18         float64\n",
      " 111  D_88         float64\n",
      " 112  B_31         int64  \n",
      " 113  S_19         float64\n",
      " 114  R_19         float64\n",
      " 115  B_32         float64\n",
      " 116  S_20         float64\n",
      " 117  R_20         float64\n",
      " 118  R_21         float64\n",
      " 119  B_33         float64\n",
      " 120  D_89         float64\n",
      " 121  R_22         float64\n",
      " 122  R_23         float64\n",
      " 123  D_91         float64\n",
      " 124  D_92         float64\n",
      " 125  D_93         float64\n",
      " 126  D_94         float64\n",
      " 127  R_24         float64\n",
      " 128  R_25         float64\n",
      " 129  D_96         float64\n",
      " 130  S_22         float64\n",
      " 131  S_23         float64\n",
      " 132  S_24         float64\n",
      " 133  S_25         float64\n",
      " 134  S_26         float64\n",
      " 135  D_102        float64\n",
      " 136  D_103        float64\n",
      " 137  D_104        float64\n",
      " 138  D_105        float64\n",
      " 139  D_106        float64\n",
      " 140  D_107        float64\n",
      " 141  B_36         float64\n",
      " 142  B_37         float64\n",
      " 143  R_26         float64\n",
      " 144  R_27         float64\n",
      " 145  B_38         float64\n",
      " 146  D_108        float64\n",
      " 147  D_109        float64\n",
      " 148  D_110        float64\n",
      " 149  D_111        float64\n",
      " 150  B_39         float64\n",
      " 151  D_112        float64\n",
      " 152  B_40         float64\n",
      " 153  S_27         float64\n",
      " 154  D_113        float64\n",
      " 155  D_114        float64\n",
      " 156  D_115        float64\n",
      " 157  D_116        float64\n",
      " 158  D_117        float64\n",
      " 159  D_118        float64\n",
      " 160  D_119        float64\n",
      " 161  D_120        float64\n",
      " 162  D_121        float64\n",
      " 163  D_122        float64\n",
      " 164  D_123        float64\n",
      " 165  D_124        float64\n",
      " 166  D_125        float64\n",
      " 167  D_126        float64\n",
      " 168  D_127        float64\n",
      " 169  D_128        float64\n",
      " 170  D_129        float64\n",
      " 171  B_41         float64\n",
      " 172  B_42         float64\n",
      " 173  D_130        float64\n",
      " 174  D_131        float64\n",
      " 175  D_132        float64\n",
      " 176  D_133        float64\n",
      " 177  R_28         float64\n",
      " 178  D_134        float64\n",
      " 179  D_135        float64\n",
      " 180  D_136        float64\n",
      " 181  D_137        float64\n",
      " 182  D_138        float64\n",
      " 183  D_139        float64\n",
      " 184  D_140        float64\n",
      " 185  D_141        float64\n",
      " 186  D_142        float64\n",
      " 187  D_143        float64\n",
      " 188  D_144        float64\n",
      " 189  D_145        float64\n",
      "dtypes: float64(185), int64(1), object(4)\n",
      "memory usage: 1.3+ GB\n"
     ]
    }
   ],
   "source": [
    "unique_clients_df.info(verbose=True)"
   ]
  },
  {
   "cell_type": "code",
   "execution_count": 11,
   "id": "f11e0561-a32c-4a68-b0eb-fbba2d4f8477",
   "metadata": {},
   "outputs": [],
   "source": [
    "# unique_clients_df.to_parquet(os.path.join(data_dir, \"test_data_randomly_sampled.parquet\"))"
   ]
  },
  {
   "cell_type": "code",
   "execution_count": 12,
   "id": "75ceb9c5-ccd7-47f2-bc54-1feb60d7faa5",
   "metadata": {},
   "outputs": [
    {
     "name": "stdout",
     "output_type": "stream",
     "text": [
      "01_prepare_train_data.ipynb\n",
      "02_eda.ipynb\n",
      "03_downsample_data.ipynb\n",
      "04_get_champion_binary_classifier.ipynb\n",
      "05_prepare_test_data.ipynb\n",
      "06_score_test_data.ipynb\n",
      "dict_vectorizer.pkl\n",
      "grid_search_results_2023-11-01_17-54-58.json\n",
      "grid_search_results_2023-11-01_20-08-34.json\n",
      "grid_search_results_2023-11-02_16-48-32.json\n",
      "grid_search_results_2023-11-04_18-06-41.json\n",
      "grid_search_results_2023-11-05_14-54-16.json\n",
      "imputer.pkl\n",
      "training_log.log\n"
     ]
    }
   ],
   "source": [
    "!ls"
   ]
  },
  {
   "cell_type": "code",
   "execution_count": 13,
   "id": "b0d8060a-e469-489a-9ca5-e0cb0ebe09b7",
   "metadata": {},
   "outputs": [
    {
     "data": {
      "text/plain": [
       "['B_30',\n",
       " 'B_38',\n",
       " 'D_114',\n",
       " 'D_116',\n",
       " 'D_117',\n",
       " 'D_120',\n",
       " 'D_126',\n",
       " 'D_63',\n",
       " 'D_64',\n",
       " 'D_66',\n",
       " 'D_68']"
      ]
     },
     "execution_count": 13,
     "metadata": {},
     "output_type": "execute_result"
    }
   ],
   "source": [
    "categorical_features = ['B_30', 'B_38', 'D_114', 'D_116', 'D_117', 'D_120', 'D_126', 'D_63', 'D_64', 'D_66', 'D_68']\n",
    "categorical_features"
   ]
  },
  {
   "cell_type": "code",
   "execution_count": 14,
   "id": "4325054e-b4be-44c9-94f4-912b7f36a24c",
   "metadata": {},
   "outputs": [],
   "source": [
    "# Step 2: Load the pickled SimpleImputer from the file\n",
    "with open('imputer.pkl', 'rb') as file:\n",
    "    imputer = pickle.load(file)"
   ]
  },
  {
   "cell_type": "code",
   "execution_count": 15,
   "id": "1e9bf740-2636-460c-a5c8-0e53bb551725",
   "metadata": {},
   "outputs": [],
   "source": [
    "# Specify columns to exclude from imputation\n",
    "exclude_columns = ['customer_ID', 'S_2', 'target', 'D_63', 'D_64']"
   ]
  },
  {
   "cell_type": "code",
   "execution_count": 16,
   "id": "9c6a631e-5612-4c69-bc86-4074d28a8392",
   "metadata": {},
   "outputs": [
    {
     "data": {
      "text/plain": [
       "Index(['B_1', 'B_10', 'B_11', 'B_12', 'B_13', 'B_14', 'B_15', 'B_16', 'B_17',\n",
       "       'B_18',\n",
       "       ...\n",
       "       'S_24', 'S_25', 'S_26', 'S_27', 'S_3', 'S_5', 'S_6', 'S_7', 'S_8',\n",
       "       'S_9'],\n",
       "      dtype='object', length=186)"
      ]
     },
     "execution_count": 16,
     "metadata": {},
     "output_type": "execute_result"
    }
   ],
   "source": [
    "# Separate the DataFrame into the columns to impute and those to exclude\n",
    "columns_to_impute = unique_clients_df.columns.difference(exclude_columns)\n",
    "columns_to_impute"
   ]
  },
  {
   "cell_type": "code",
   "execution_count": 17,
   "id": "f23efe3d-be63-47df-9605-fa8d8a2f3c1a",
   "metadata": {},
   "outputs": [
    {
     "name": "stderr",
     "output_type": "stream",
     "text": [
      "C:\\Users\\KonuTech\\AppData\\Local\\Temp\\ipykernel_1840\\1407758518.py:2: SettingWithCopyWarning: \n",
      "A value is trying to be set on a copy of a slice from a DataFrame.\n",
      "Try using .loc[row_indexer,col_indexer] = value instead\n",
      "\n",
      "See the caveats in the documentation: https://pandas.pydata.org/pandas-docs/stable/user_guide/indexing.html#returning-a-view-versus-a-copy\n",
      "  unique_clients_df[columns_to_impute] = imputer.transform(unique_clients_df[columns_to_impute])\n"
     ]
    }
   ],
   "source": [
    "# Fit the imputer to the data and transform the specified columns\n",
    "unique_clients_df[columns_to_impute] = imputer.transform(unique_clients_df[columns_to_impute])"
   ]
  },
  {
   "cell_type": "code",
   "execution_count": 18,
   "id": "c3e1941e-82fd-4eab-8d36-b6195c0d07e9",
   "metadata": {},
   "outputs": [
    {
     "name": "stderr",
     "output_type": "stream",
     "text": [
      "C:\\Users\\KonuTech\\AppData\\Local\\Temp\\ipykernel_1840\\129461532.py:2: SettingWithCopyWarning: \n",
      "A value is trying to be set on a copy of a slice from a DataFrame.\n",
      "Try using .loc[row_indexer,col_indexer] = value instead\n",
      "\n",
      "See the caveats in the documentation: https://pandas.pydata.org/pandas-docs/stable/user_guide/indexing.html#returning-a-view-versus-a-copy\n",
      "  unique_clients_df[categorical_features] = unique_clients_df[categorical_features].astype(str)\n"
     ]
    }
   ],
   "source": [
    "# Convert the specified columns to strings\n",
    "unique_clients_df[categorical_features] = unique_clients_df[categorical_features].astype(str)"
   ]
  },
  {
   "cell_type": "code",
   "execution_count": 19,
   "id": "b6436aae-4c05-4903-8cee-f69ac118f11f",
   "metadata": {},
   "outputs": [],
   "source": [
    "features = [\n",
    "    'D_48',\n",
    "    'D_55',\n",
    "    'B_9',\n",
    "    'D_58',\n",
    "    'D_75',\n",
    "    'B_7',\n",
    "    'B_23',\n",
    "    'B_16',\n",
    "    'D_44',\n",
    "    'B_3',\n",
    "    'B_30',\n",
    "    'B_38',\n",
    "    'D_114',\n",
    "    'D_116',\n",
    "    'D_117',\n",
    "    'D_120',\n",
    "    'D_126',\n",
    "    'D_63',\n",
    "    'D_64',\n",
    "    'D_66',\n",
    "    'D_68'\n",
    "]"
   ]
  },
  {
   "cell_type": "markdown",
   "id": "2ded3c60-ec27-474a-89e6-b6d7ec25df6d",
   "metadata": {},
   "source": [
    "### Unpickling DictVectorizer()"
   ]
  },
  {
   "cell_type": "code",
   "execution_count": 20,
   "id": "7bcd8693-b028-4507-ae41-f113b7f9951c",
   "metadata": {
    "scrolled": true
   },
   "outputs": [],
   "source": [
    "unique_clients_df_dict = unique_clients_df[features].to_dict(orient='records')"
   ]
  },
  {
   "cell_type": "code",
   "execution_count": 21,
   "id": "6568ef61-8d60-4cc5-9e1f-5d84ec9bc742",
   "metadata": {},
   "outputs": [],
   "source": [
    "# Load the saved DictVectorizer from the file\n",
    "with open('dict_vectorizer.pkl', 'rb') as file:\n",
    "    dict_vectorizer = pickle.load(file)"
   ]
  },
  {
   "cell_type": "code",
   "execution_count": 22,
   "id": "578be620-6848-4a2d-8f7c-5ed2183de82f",
   "metadata": {},
   "outputs": [],
   "source": [
    "# Transform the new data using the unpickled DictVectorizer\n",
    "unique_clients_df_encoded = dict_vectorizer.transform(unique_clients_df_dict)"
   ]
  },
  {
   "cell_type": "code",
   "execution_count": 23,
   "id": "d91a732d-d984-49f1-abf5-8053b1a0b26b",
   "metadata": {},
   "outputs": [
    {
     "data": {
      "text/plain": [
       "56"
      ]
     },
     "execution_count": 23,
     "metadata": {},
     "output_type": "execute_result"
    }
   ],
   "source": [
    "len(dict_vectorizer.get_feature_names_out())"
   ]
  },
  {
   "cell_type": "code",
   "execution_count": 24,
   "id": "c6b6900b-0d04-4c72-aa39-2235d58fb877",
   "metadata": {},
   "outputs": [
    {
     "data": {
      "text/plain": [
       "array(['B_16', 'B_23', 'B_3', 'B_30=0.0', 'B_30=1.0', 'B_30=2.0',\n",
       "       'B_38=1.0', 'B_38=2.0', 'B_38=3.0', 'B_38=4.0', 'B_38=5.0',\n",
       "       'B_38=6.0', 'B_38=7.0', 'B_7', 'B_9', 'D_114=0.0', 'D_114=1.0',\n",
       "       'D_116=0.0', 'D_116=1.0', 'D_117=-1.0', 'D_117=1.0', 'D_117=2.0',\n",
       "       'D_117=3.0', 'D_117=4.0', 'D_117=5.0', 'D_117=6.0', 'D_120=0.0',\n",
       "       'D_120=1.0', 'D_126=-1.0', 'D_126=0.0', 'D_126=1.0', 'D_44',\n",
       "       'D_48', 'D_55', 'D_58', 'D_63=CL', 'D_63=CO', 'D_63=CR', 'D_63=XL',\n",
       "       'D_63=XM', 'D_63=XZ', 'D_64=-1', 'D_64=None', 'D_64=O', 'D_64=R',\n",
       "       'D_64=U', 'D_66=0.0', 'D_66=1.0', 'D_68=0.0', 'D_68=1.0',\n",
       "       'D_68=2.0', 'D_68=3.0', 'D_68=4.0', 'D_68=5.0', 'D_68=6.0', 'D_75'],\n",
       "      dtype=object)"
      ]
     },
     "execution_count": 24,
     "metadata": {},
     "output_type": "execute_result"
    }
   ],
   "source": [
    "dict_vectorizer.get_feature_names_out()"
   ]
  },
  {
   "cell_type": "code",
   "execution_count": 25,
   "id": "6c56ea35-40e4-4746-8dc9-2f8c0e2b0547",
   "metadata": {},
   "outputs": [],
   "source": [
    "# model_file = \"XGBoost_2023-11-01_17-54-58.bin\"\n",
    "# model_file = \"XGBoost_2023-11-01_20-08-34.bin\"\n",
    "# model_file = \"XGBoost_2023-11-04_18-06-41.bin\"\n",
    "model_file = \"XGBoost_2023-11-05_14-54-16.bin\""
   ]
  },
  {
   "cell_type": "code",
   "execution_count": 26,
   "id": "661e601a-5b35-4a21-8afd-ff5855fbdbca",
   "metadata": {},
   "outputs": [
    {
     "data": {
      "text/plain": [
       "'C:\\\\Users\\\\KonuTech\\\\zoomcamp-capstone-01\\\\models'"
      ]
     },
     "execution_count": 26,
     "metadata": {},
     "output_type": "execute_result"
    }
   ],
   "source": [
    "models_dir = os.path.join('C:\\\\', 'Users', 'KonuTech', 'zoomcamp-capstone-01', 'models')\n",
    "models_dir"
   ]
  },
  {
   "cell_type": "code",
   "execution_count": 27,
   "id": "6c87b743-0bb3-47c2-9e21-20908cb20569",
   "metadata": {},
   "outputs": [],
   "source": [
    "models_path = os.path.join(models_dir, model_file)"
   ]
  },
  {
   "cell_type": "code",
   "execution_count": 28,
   "id": "8a47fbdf-962f-419c-865b-0d2bbd533efd",
   "metadata": {},
   "outputs": [],
   "source": [
    "# XGBoost_2023-11-01_17-54-58.bin :\n",
    "# columns_used = ['B_16', 'B_19', 'B_20', 'B_23', 'B_3', 'B_38', 'B_4', 'B_7', 'B_9', 'D_44', 'D_48', 'D_55', 'D_58', 'D_74', 'D_75']  \n",
    "\n",
    "# XGBoost_2023-11-01_20-08-34.bin :\n",
    "# columns_used = ['B_16', 'B_19', 'B_20', 'B_23', 'B_3', 'B_38', 'B_4', 'B_7', 'B_9', 'D_44', 'D_48', 'D_55', 'D_58', 'D_74', 'D_75']  \n",
    "\n",
    "# XGBoost_2023-11-04_18-06-41.bin :\n",
    "# columns_used = ['D_48', 'D_55', 'B_9', 'D_58', 'D_75', 'D_44', 'B_7', 'B_23', 'B_16','B_3', 'D_74','B_38','B_20', 'B_4', 'B_19', 'B_1', 'B_37', 'B_8', 'B_22', 'B_11', 'B_30', 'S_7', 'R_1', 'S_3', 'D_70']\n",
    "\n",
    "# XGBoost_.bin :\n",
    "# columns_used = ['B_16', 'B_23', 'B_3', 'B_30=0.0', 'B_30=1.0', 'B_30=2.0', 'B_30=nan', 'B_38=1.0', 'B_38=2.0', 'B_38=3.0', 'B_38=4.0', 'B_38=5.0', 'B_38=6.0', 'B_38=7.0', 'B_38=nan', 'B_7', 'B_9', 'D_114=0.0', 'D_114=1.0', 'D_114=nan', 'D_116=0.0', 'D_116=1.0', 'D_116=nan', 'D_117=-1.0', 'D_117=1.0', 'D_117=2.0', 'D_117=3.0', 'D_117=4.0', 'D_117=5.0', 'D_117=6.0', 'D_117=nan', 'D_120=0.0', 'D_120=1.0', 'D_120=nan', 'D_126=-1.0', 'D_126=0.0', 'D_126=1.0', 'D_126=nan', 'D_44', 'D_48', 'D_55', 'D_58', 'D_63=CL', 'D_63=CO', 'D_63=CR', 'D_63=XL', 'D_63=XM', 'D_63=XZ', 'D_64=-1', 'D_64=None', 'D_64=O', 'D_64=R', 'D_64=U', 'D_66=0.0', 'D_66=1.0', 'D_66=nan', 'D_68=0.0', 'D_68=1.0', 'D_68=2.0', 'D_68=3.0', 'D_68=4.0', 'D_68=5.0', 'D_68=6.0', 'D_68=nan', 'D_75']\n",
    "columns_used = ['B_16', 'B_23', 'B_3', 'B_30=0.0', 'B_30=1.0', 'B_30=2.0',\n",
    "       'B_38=1.0', 'B_38=2.0', 'B_38=3.0', 'B_38=4.0', 'B_38=5.0',\n",
    "       'B_38=6.0', 'B_38=7.0', 'B_7', 'B_9', 'D_114=0.0', 'D_114=1.0',\n",
    "       'D_116=0.0', 'D_116=1.0', 'D_117=-1.0', 'D_117=1.0', 'D_117=2.0',\n",
    "       'D_117=3.0', 'D_117=4.0', 'D_117=5.0', 'D_117=6.0', 'D_120=0.0',\n",
    "       'D_120=1.0', 'D_126=-1.0', 'D_126=0.0', 'D_126=1.0', 'D_44',\n",
    "       'D_48', 'D_55', 'D_58', 'D_63=CL', 'D_63=CO', 'D_63=CR', 'D_63=XL',\n",
    "       'D_63=XM', 'D_63=XZ', 'D_64=-1', 'D_64=None', 'D_64=O', 'D_64=R',\n",
    "       'D_64=U', 'D_66=0.0', 'D_66=1.0', 'D_68=0.0', 'D_68=1.0',\n",
    "       'D_68=2.0', 'D_68=3.0', 'D_68=4.0', 'D_68=5.0', 'D_68=6.0', 'D_75']"
   ]
  },
  {
   "cell_type": "code",
   "execution_count": 29,
   "id": "68c9c95b-2e0d-452f-9989-b2b8ab1812c6",
   "metadata": {},
   "outputs": [
    {
     "data": {
      "text/plain": [
       "56"
      ]
     },
     "execution_count": 29,
     "metadata": {},
     "output_type": "execute_result"
    }
   ],
   "source": [
    "len(columns_used)"
   ]
  },
  {
   "cell_type": "code",
   "execution_count": 30,
   "id": "8f61f6a8-b768-498c-af96-4e71922b7ad4",
   "metadata": {},
   "outputs": [],
   "source": [
    "# Convert the NumPy array to a DataFrame\n",
    "unique_clients_df_encoded_df = pd.DataFrame(unique_clients_df_encoded, columns=columns_used)  # Replace 'your_column_names' with the actual column names"
   ]
  },
  {
   "cell_type": "code",
   "execution_count": 31,
   "id": "a4949132-8499-4ac0-9afc-1d850bb8811a",
   "metadata": {},
   "outputs": [],
   "source": [
    "for column_name in columns_used:\n",
    "    if column_name not in unique_clients_df_encoded_df.columns:\n",
    "        print(f\"Column '{column_name}' not found in the input_data DataFrame.\")"
   ]
  },
  {
   "cell_type": "markdown",
   "id": "2af42a05-32ba-47be-8775-525eeac0403e",
   "metadata": {},
   "source": [
    "### Scoring of a data"
   ]
  },
  {
   "cell_type": "code",
   "execution_count": 32,
   "id": "d7dae84d-c870-41cc-b3af-6743c73fe8be",
   "metadata": {},
   "outputs": [
    {
     "name": "stderr",
     "output_type": "stream",
     "text": [
      "c:\\users\\konutech\\zoomcamp-capstone-01\\venv\\lib\\site-packages\\sklearn\\base.py:458: UserWarning: X has feature names, but MinMaxScaler was fitted without feature names\n",
      "  warnings.warn(\n"
     ]
    }
   ],
   "source": [
    "df_scored = score_xgb_model(\n",
    "    model_file=models_path,\n",
    "    input_data=unique_clients_df_encoded_df,\n",
    "    columns_used=columns_used\n",
    ")"
   ]
  },
  {
   "cell_type": "code",
   "execution_count": 33,
   "id": "700dff2d-ba23-40ec-9a8d-a45995ffb53b",
   "metadata": {},
   "outputs": [
    {
     "name": "stdout",
     "output_type": "stream",
     "text": [
      "<class 'pandas.core.frame.DataFrame'>\n",
      "RangeIndex: 924621 entries, 0 to 924620\n",
      "Data columns (total 57 columns):\n",
      " #   Column      Non-Null Count   Dtype  \n",
      "---  ------      --------------   -----  \n",
      " 0   B_16        924621 non-null  float64\n",
      " 1   B_23        924621 non-null  float64\n",
      " 2   B_3         924621 non-null  float64\n",
      " 3   B_30=0.0    924621 non-null  float64\n",
      " 4   B_30=1.0    924621 non-null  float64\n",
      " 5   B_30=2.0    924621 non-null  float64\n",
      " 6   B_38=1.0    924621 non-null  float64\n",
      " 7   B_38=2.0    924621 non-null  float64\n",
      " 8   B_38=3.0    924621 non-null  float64\n",
      " 9   B_38=4.0    924621 non-null  float64\n",
      " 10  B_38=5.0    924621 non-null  float64\n",
      " 11  B_38=6.0    924621 non-null  float64\n",
      " 12  B_38=7.0    924621 non-null  float64\n",
      " 13  B_7         924621 non-null  float64\n",
      " 14  B_9         924621 non-null  float64\n",
      " 15  D_114=0.0   924621 non-null  float64\n",
      " 16  D_114=1.0   924621 non-null  float64\n",
      " 17  D_116=0.0   924621 non-null  float64\n",
      " 18  D_116=1.0   924621 non-null  float64\n",
      " 19  D_117=-1.0  924621 non-null  float64\n",
      " 20  D_117=1.0   924621 non-null  float64\n",
      " 21  D_117=2.0   924621 non-null  float64\n",
      " 22  D_117=3.0   924621 non-null  float64\n",
      " 23  D_117=4.0   924621 non-null  float64\n",
      " 24  D_117=5.0   924621 non-null  float64\n",
      " 25  D_117=6.0   924621 non-null  float64\n",
      " 26  D_120=0.0   924621 non-null  float64\n",
      " 27  D_120=1.0   924621 non-null  float64\n",
      " 28  D_126=-1.0  924621 non-null  float64\n",
      " 29  D_126=0.0   924621 non-null  float64\n",
      " 30  D_126=1.0   924621 non-null  float64\n",
      " 31  D_44        924621 non-null  float64\n",
      " 32  D_48        924621 non-null  float64\n",
      " 33  D_55        924621 non-null  float64\n",
      " 34  D_58        924621 non-null  float64\n",
      " 35  D_63=CL     924621 non-null  float64\n",
      " 36  D_63=CO     924621 non-null  float64\n",
      " 37  D_63=CR     924621 non-null  float64\n",
      " 38  D_63=XL     924621 non-null  float64\n",
      " 39  D_63=XM     924621 non-null  float64\n",
      " 40  D_63=XZ     924621 non-null  float64\n",
      " 41  D_64=-1     924621 non-null  float64\n",
      " 42  D_64=None   924621 non-null  float64\n",
      " 43  D_64=O      924621 non-null  float64\n",
      " 44  D_64=R      924621 non-null  float64\n",
      " 45  D_64=U      924621 non-null  float64\n",
      " 46  D_66=0.0    924621 non-null  float64\n",
      " 47  D_66=1.0    924621 non-null  float64\n",
      " 48  D_68=0.0    924621 non-null  float64\n",
      " 49  D_68=1.0    924621 non-null  float64\n",
      " 50  D_68=2.0    924621 non-null  float64\n",
      " 51  D_68=3.0    924621 non-null  float64\n",
      " 52  D_68=4.0    924621 non-null  float64\n",
      " 53  D_68=5.0    924621 non-null  float64\n",
      " 54  D_68=6.0    924621 non-null  float64\n",
      " 55  D_75        924621 non-null  float64\n",
      " 56  prediction  924621 non-null  float32\n",
      "dtypes: float32(1), float64(56)\n",
      "memory usage: 398.6 MB\n"
     ]
    }
   ],
   "source": [
    "df_scored.info(verbose=True)"
   ]
  },
  {
   "cell_type": "code",
   "execution_count": 34,
   "id": "e7ef8b8f-e7b8-461a-be52-d40a82167f4d",
   "metadata": {},
   "outputs": [
    {
     "data": {
      "text/html": [
       "<div>\n",
       "<style scoped>\n",
       "    .dataframe tbody tr th:only-of-type {\n",
       "        vertical-align: middle;\n",
       "    }\n",
       "\n",
       "    .dataframe tbody tr th {\n",
       "        vertical-align: top;\n",
       "    }\n",
       "\n",
       "    .dataframe thead th {\n",
       "        text-align: right;\n",
       "    }\n",
       "</style>\n",
       "<table border=\"1\" class=\"dataframe\">\n",
       "  <thead>\n",
       "    <tr style=\"text-align: right;\">\n",
       "      <th></th>\n",
       "      <th>B_16</th>\n",
       "      <th>B_23</th>\n",
       "      <th>B_3</th>\n",
       "      <th>B_30=0.0</th>\n",
       "      <th>B_30=1.0</th>\n",
       "      <th>B_30=2.0</th>\n",
       "      <th>B_38=1.0</th>\n",
       "      <th>B_38=2.0</th>\n",
       "      <th>B_38=3.0</th>\n",
       "      <th>B_38=4.0</th>\n",
       "      <th>...</th>\n",
       "      <th>D_66=1.0</th>\n",
       "      <th>D_68=0.0</th>\n",
       "      <th>D_68=1.0</th>\n",
       "      <th>D_68=2.0</th>\n",
       "      <th>D_68=3.0</th>\n",
       "      <th>D_68=4.0</th>\n",
       "      <th>D_68=5.0</th>\n",
       "      <th>D_68=6.0</th>\n",
       "      <th>D_75</th>\n",
       "      <th>prediction</th>\n",
       "    </tr>\n",
       "  </thead>\n",
       "  <tbody>\n",
       "    <tr>\n",
       "      <th>0</th>\n",
       "      <td>0.168312</td>\n",
       "      <td>0.020590</td>\n",
       "      <td>0.018735</td>\n",
       "      <td>1.0</td>\n",
       "      <td>0.0</td>\n",
       "      <td>0.0</td>\n",
       "      <td>0.0</td>\n",
       "      <td>1.0</td>\n",
       "      <td>0.0</td>\n",
       "      <td>0.0</td>\n",
       "      <td>...</td>\n",
       "      <td>1.0</td>\n",
       "      <td>0.0</td>\n",
       "      <td>0.0</td>\n",
       "      <td>0.0</td>\n",
       "      <td>0.0</td>\n",
       "      <td>0.0</td>\n",
       "      <td>0.0</td>\n",
       "      <td>1.0</td>\n",
       "      <td>0.073677</td>\n",
       "      <td>0.017970</td>\n",
       "    </tr>\n",
       "    <tr>\n",
       "      <th>1</th>\n",
       "      <td>0.091521</td>\n",
       "      <td>0.024689</td>\n",
       "      <td>0.004492</td>\n",
       "      <td>1.0</td>\n",
       "      <td>0.0</td>\n",
       "      <td>0.0</td>\n",
       "      <td>0.0</td>\n",
       "      <td>1.0</td>\n",
       "      <td>0.0</td>\n",
       "      <td>0.0</td>\n",
       "      <td>...</td>\n",
       "      <td>1.0</td>\n",
       "      <td>0.0</td>\n",
       "      <td>0.0</td>\n",
       "      <td>0.0</td>\n",
       "      <td>0.0</td>\n",
       "      <td>1.0</td>\n",
       "      <td>0.0</td>\n",
       "      <td>0.0</td>\n",
       "      <td>0.006693</td>\n",
       "      <td>0.043156</td>\n",
       "    </tr>\n",
       "    <tr>\n",
       "      <th>2</th>\n",
       "      <td>0.008443</td>\n",
       "      <td>0.002116</td>\n",
       "      <td>0.007269</td>\n",
       "      <td>1.0</td>\n",
       "      <td>0.0</td>\n",
       "      <td>0.0</td>\n",
       "      <td>0.0</td>\n",
       "      <td>1.0</td>\n",
       "      <td>0.0</td>\n",
       "      <td>0.0</td>\n",
       "      <td>...</td>\n",
       "      <td>1.0</td>\n",
       "      <td>0.0</td>\n",
       "      <td>0.0</td>\n",
       "      <td>0.0</td>\n",
       "      <td>0.0</td>\n",
       "      <td>0.0</td>\n",
       "      <td>0.0</td>\n",
       "      <td>1.0</td>\n",
       "      <td>0.005511</td>\n",
       "      <td>0.017051</td>\n",
       "    </tr>\n",
       "    <tr>\n",
       "      <th>3</th>\n",
       "      <td>1.007958</td>\n",
       "      <td>0.638273</td>\n",
       "      <td>0.628909</td>\n",
       "      <td>0.0</td>\n",
       "      <td>1.0</td>\n",
       "      <td>0.0</td>\n",
       "      <td>0.0</td>\n",
       "      <td>0.0</td>\n",
       "      <td>0.0</td>\n",
       "      <td>0.0</td>\n",
       "      <td>...</td>\n",
       "      <td>1.0</td>\n",
       "      <td>0.0</td>\n",
       "      <td>0.0</td>\n",
       "      <td>0.0</td>\n",
       "      <td>0.0</td>\n",
       "      <td>0.0</td>\n",
       "      <td>0.0</td>\n",
       "      <td>1.0</td>\n",
       "      <td>0.338710</td>\n",
       "      <td>0.895407</td>\n",
       "    </tr>\n",
       "    <tr>\n",
       "      <th>4</th>\n",
       "      <td>0.086049</td>\n",
       "      <td>0.065805</td>\n",
       "      <td>0.013247</td>\n",
       "      <td>1.0</td>\n",
       "      <td>0.0</td>\n",
       "      <td>0.0</td>\n",
       "      <td>0.0</td>\n",
       "      <td>1.0</td>\n",
       "      <td>0.0</td>\n",
       "      <td>0.0</td>\n",
       "      <td>...</td>\n",
       "      <td>1.0</td>\n",
       "      <td>0.0</td>\n",
       "      <td>0.0</td>\n",
       "      <td>0.0</td>\n",
       "      <td>0.0</td>\n",
       "      <td>0.0</td>\n",
       "      <td>0.0</td>\n",
       "      <td>1.0</td>\n",
       "      <td>0.004395</td>\n",
       "      <td>0.014569</td>\n",
       "    </tr>\n",
       "    <tr>\n",
       "      <th>...</th>\n",
       "      <td>...</td>\n",
       "      <td>...</td>\n",
       "      <td>...</td>\n",
       "      <td>...</td>\n",
       "      <td>...</td>\n",
       "      <td>...</td>\n",
       "      <td>...</td>\n",
       "      <td>...</td>\n",
       "      <td>...</td>\n",
       "      <td>...</td>\n",
       "      <td>...</td>\n",
       "      <td>...</td>\n",
       "      <td>...</td>\n",
       "      <td>...</td>\n",
       "      <td>...</td>\n",
       "      <td>...</td>\n",
       "      <td>...</td>\n",
       "      <td>...</td>\n",
       "      <td>...</td>\n",
       "      <td>...</td>\n",
       "      <td>...</td>\n",
       "    </tr>\n",
       "    <tr>\n",
       "      <th>924616</th>\n",
       "      <td>0.006080</td>\n",
       "      <td>0.028284</td>\n",
       "      <td>0.009488</td>\n",
       "      <td>1.0</td>\n",
       "      <td>0.0</td>\n",
       "      <td>0.0</td>\n",
       "      <td>1.0</td>\n",
       "      <td>0.0</td>\n",
       "      <td>0.0</td>\n",
       "      <td>0.0</td>\n",
       "      <td>...</td>\n",
       "      <td>1.0</td>\n",
       "      <td>0.0</td>\n",
       "      <td>0.0</td>\n",
       "      <td>0.0</td>\n",
       "      <td>0.0</td>\n",
       "      <td>0.0</td>\n",
       "      <td>1.0</td>\n",
       "      <td>0.0</td>\n",
       "      <td>0.001578</td>\n",
       "      <td>0.715548</td>\n",
       "    </tr>\n",
       "    <tr>\n",
       "      <th>924617</th>\n",
       "      <td>0.009373</td>\n",
       "      <td>0.761858</td>\n",
       "      <td>0.003161</td>\n",
       "      <td>1.0</td>\n",
       "      <td>0.0</td>\n",
       "      <td>0.0</td>\n",
       "      <td>1.0</td>\n",
       "      <td>0.0</td>\n",
       "      <td>0.0</td>\n",
       "      <td>0.0</td>\n",
       "      <td>...</td>\n",
       "      <td>1.0</td>\n",
       "      <td>0.0</td>\n",
       "      <td>0.0</td>\n",
       "      <td>0.0</td>\n",
       "      <td>0.0</td>\n",
       "      <td>0.0</td>\n",
       "      <td>1.0</td>\n",
       "      <td>0.0</td>\n",
       "      <td>0.542992</td>\n",
       "      <td>0.758180</td>\n",
       "    </tr>\n",
       "    <tr>\n",
       "      <th>924618</th>\n",
       "      <td>0.006825</td>\n",
       "      <td>0.128480</td>\n",
       "      <td>0.002558</td>\n",
       "      <td>1.0</td>\n",
       "      <td>0.0</td>\n",
       "      <td>0.0</td>\n",
       "      <td>1.0</td>\n",
       "      <td>0.0</td>\n",
       "      <td>0.0</td>\n",
       "      <td>0.0</td>\n",
       "      <td>...</td>\n",
       "      <td>1.0</td>\n",
       "      <td>0.0</td>\n",
       "      <td>0.0</td>\n",
       "      <td>0.0</td>\n",
       "      <td>0.0</td>\n",
       "      <td>0.0</td>\n",
       "      <td>1.0</td>\n",
       "      <td>0.0</td>\n",
       "      <td>0.068366</td>\n",
       "      <td>0.529055</td>\n",
       "    </tr>\n",
       "    <tr>\n",
       "      <th>924619</th>\n",
       "      <td>0.253342</td>\n",
       "      <td>0.073859</td>\n",
       "      <td>0.309063</td>\n",
       "      <td>1.0</td>\n",
       "      <td>0.0</td>\n",
       "      <td>0.0</td>\n",
       "      <td>0.0</td>\n",
       "      <td>0.0</td>\n",
       "      <td>0.0</td>\n",
       "      <td>1.0</td>\n",
       "      <td>...</td>\n",
       "      <td>1.0</td>\n",
       "      <td>0.0</td>\n",
       "      <td>0.0</td>\n",
       "      <td>0.0</td>\n",
       "      <td>0.0</td>\n",
       "      <td>0.0</td>\n",
       "      <td>1.0</td>\n",
       "      <td>0.0</td>\n",
       "      <td>0.076225</td>\n",
       "      <td>0.769782</td>\n",
       "    </tr>\n",
       "    <tr>\n",
       "      <th>924620</th>\n",
       "      <td>0.003538</td>\n",
       "      <td>0.009929</td>\n",
       "      <td>0.002857</td>\n",
       "      <td>1.0</td>\n",
       "      <td>0.0</td>\n",
       "      <td>0.0</td>\n",
       "      <td>1.0</td>\n",
       "      <td>0.0</td>\n",
       "      <td>0.0</td>\n",
       "      <td>0.0</td>\n",
       "      <td>...</td>\n",
       "      <td>1.0</td>\n",
       "      <td>0.0</td>\n",
       "      <td>0.0</td>\n",
       "      <td>0.0</td>\n",
       "      <td>0.0</td>\n",
       "      <td>0.0</td>\n",
       "      <td>1.0</td>\n",
       "      <td>0.0</td>\n",
       "      <td>0.000744</td>\n",
       "      <td>0.636297</td>\n",
       "    </tr>\n",
       "  </tbody>\n",
       "</table>\n",
       "<p>924621 rows × 57 columns</p>\n",
       "</div>"
      ],
      "text/plain": [
       "            B_16      B_23       B_3  B_30=0.0  B_30=1.0  B_30=2.0  B_38=1.0  \\\n",
       "0       0.168312  0.020590  0.018735       1.0       0.0       0.0       0.0   \n",
       "1       0.091521  0.024689  0.004492       1.0       0.0       0.0       0.0   \n",
       "2       0.008443  0.002116  0.007269       1.0       0.0       0.0       0.0   \n",
       "3       1.007958  0.638273  0.628909       0.0       1.0       0.0       0.0   \n",
       "4       0.086049  0.065805  0.013247       1.0       0.0       0.0       0.0   \n",
       "...          ...       ...       ...       ...       ...       ...       ...   \n",
       "924616  0.006080  0.028284  0.009488       1.0       0.0       0.0       1.0   \n",
       "924617  0.009373  0.761858  0.003161       1.0       0.0       0.0       1.0   \n",
       "924618  0.006825  0.128480  0.002558       1.0       0.0       0.0       1.0   \n",
       "924619  0.253342  0.073859  0.309063       1.0       0.0       0.0       0.0   \n",
       "924620  0.003538  0.009929  0.002857       1.0       0.0       0.0       1.0   \n",
       "\n",
       "        B_38=2.0  B_38=3.0  B_38=4.0  ...  D_66=1.0  D_68=0.0  D_68=1.0  \\\n",
       "0            1.0       0.0       0.0  ...       1.0       0.0       0.0   \n",
       "1            1.0       0.0       0.0  ...       1.0       0.0       0.0   \n",
       "2            1.0       0.0       0.0  ...       1.0       0.0       0.0   \n",
       "3            0.0       0.0       0.0  ...       1.0       0.0       0.0   \n",
       "4            1.0       0.0       0.0  ...       1.0       0.0       0.0   \n",
       "...          ...       ...       ...  ...       ...       ...       ...   \n",
       "924616       0.0       0.0       0.0  ...       1.0       0.0       0.0   \n",
       "924617       0.0       0.0       0.0  ...       1.0       0.0       0.0   \n",
       "924618       0.0       0.0       0.0  ...       1.0       0.0       0.0   \n",
       "924619       0.0       0.0       1.0  ...       1.0       0.0       0.0   \n",
       "924620       0.0       0.0       0.0  ...       1.0       0.0       0.0   \n",
       "\n",
       "        D_68=2.0  D_68=3.0  D_68=4.0  D_68=5.0  D_68=6.0      D_75  prediction  \n",
       "0            0.0       0.0       0.0       0.0       1.0  0.073677    0.017970  \n",
       "1            0.0       0.0       1.0       0.0       0.0  0.006693    0.043156  \n",
       "2            0.0       0.0       0.0       0.0       1.0  0.005511    0.017051  \n",
       "3            0.0       0.0       0.0       0.0       1.0  0.338710    0.895407  \n",
       "4            0.0       0.0       0.0       0.0       1.0  0.004395    0.014569  \n",
       "...          ...       ...       ...       ...       ...       ...         ...  \n",
       "924616       0.0       0.0       0.0       1.0       0.0  0.001578    0.715548  \n",
       "924617       0.0       0.0       0.0       1.0       0.0  0.542992    0.758180  \n",
       "924618       0.0       0.0       0.0       1.0       0.0  0.068366    0.529055  \n",
       "924619       0.0       0.0       0.0       1.0       0.0  0.076225    0.769782  \n",
       "924620       0.0       0.0       0.0       1.0       0.0  0.000744    0.636297  \n",
       "\n",
       "[924621 rows x 57 columns]"
      ]
     },
     "execution_count": 34,
     "metadata": {},
     "output_type": "execute_result"
    }
   ],
   "source": [
    "df_scored"
   ]
  },
  {
   "cell_type": "code",
   "execution_count": 35,
   "id": "16ca0181-55e3-4f79-9dd1-d1b003b3dbe7",
   "metadata": {},
   "outputs": [
    {
     "data": {
      "text/plain": [
       "(924621, 190)"
      ]
     },
     "execution_count": 35,
     "metadata": {},
     "output_type": "execute_result"
    }
   ],
   "source": [
    "unique_clients_df.shape"
   ]
  },
  {
   "cell_type": "code",
   "execution_count": 36,
   "id": "979d4e9a-7c18-4181-ab43-4e5a9fbb68d8",
   "metadata": {},
   "outputs": [
    {
     "data": {
      "text/plain": [
       "0           f56fdbc843bc02ad4dbc20e61b493d6905126d692eec79...\n",
       "1           cc3a057fe61c68bcc9865ca319226e2ea1a372769b3115...\n",
       "2           376a87a3d47e34a1d40b0c026fe5a7a7c801c086b13a54...\n",
       "3           00b513cf1a88a057c5065dc286dcb01a56a831978ea09d...\n",
       "4           931acc1d65abc0a68d638b69ef5a3e91fda6d14bec933e...\n",
       "                                  ...                        \n",
       "11354522    60d63bf43d55b13117986bca0b03d6a58c182ee747af98...\n",
       "11354756    a0aac4094d863cb7cabd0b2de32634c9fefaf814153e9e...\n",
       "11356280    2542d893ac6a5dd0c16aa0c758e3d129f2d82b93393739...\n",
       "11357428    4abd50915c60908fed1163b87a3ce51e5985e7bc5878e4...\n",
       "11363265    23e103fab928270fa6061a1028e192b918b73d4e73d69a...\n",
       "Name: customer_ID, Length: 924621, dtype: object"
      ]
     },
     "execution_count": 36,
     "metadata": {},
     "output_type": "execute_result"
    }
   ],
   "source": [
    "unique_clients_df['customer_ID']"
   ]
  },
  {
   "cell_type": "code",
   "execution_count": 37,
   "id": "82181a86-6292-427e-8b76-e7519bb6df74",
   "metadata": {},
   "outputs": [
    {
     "data": {
      "text/plain": [
       "(924621, 57)"
      ]
     },
     "execution_count": 37,
     "metadata": {},
     "output_type": "execute_result"
    }
   ],
   "source": [
    "df_scored.shape"
   ]
  },
  {
   "cell_type": "code",
   "execution_count": 38,
   "id": "449ef5e1-babb-4d7b-84b8-a75b24a1e8f1",
   "metadata": {},
   "outputs": [
    {
     "data": {
      "text/plain": [
       "0         0.017970\n",
       "1         0.043156\n",
       "2         0.017051\n",
       "3         0.895407\n",
       "4         0.014569\n",
       "            ...   \n",
       "924616    0.715548\n",
       "924617    0.758180\n",
       "924618    0.529055\n",
       "924619    0.769782\n",
       "924620    0.636297\n",
       "Name: prediction, Length: 924621, dtype: float32"
      ]
     },
     "execution_count": 38,
     "metadata": {},
     "output_type": "execute_result"
    }
   ],
   "source": [
    "df_scored[\"prediction\"]"
   ]
  },
  {
   "cell_type": "code",
   "execution_count": 39,
   "id": "11d43b70-84f9-4ece-8488-9dbe4e8eba23",
   "metadata": {},
   "outputs": [],
   "source": [
    "# Assuming you have two Series: unique_clients_df[\"customer_ID\"] and df_scored[\"prediction\"]\n",
    "customer_ID_series = unique_clients_df[\"customer_ID\"].reset_index(drop=True)\n",
    "prediction_series = df_scored[\"prediction\"].reset_index(drop=True)\n",
    "\n",
    "# Concatenate the two Series by row indices\n",
    "merged_df = pd.concat([customer_ID_series, prediction_series], axis=1)\n",
    "\n",
    "# Optional: Rename the columns if needed\n",
    "merged_df.columns = [\"customer_ID\", \"prediction\"]"
   ]
  },
  {
   "cell_type": "code",
   "execution_count": 40,
   "id": "ef31376e-e6c7-41be-8049-143ff4b4a044",
   "metadata": {},
   "outputs": [
    {
     "name": "stdout",
     "output_type": "stream",
     "text": [
      "<class 'pandas.core.frame.DataFrame'>\n",
      "RangeIndex: 924621 entries, 0 to 924620\n",
      "Data columns (total 2 columns):\n",
      " #   Column       Non-Null Count   Dtype  \n",
      "---  ------       --------------   -----  \n",
      " 0   customer_ID  924621 non-null  object \n",
      " 1   prediction   924621 non-null  float32\n",
      "dtypes: float32(1), object(1)\n",
      "memory usage: 10.6+ MB\n"
     ]
    }
   ],
   "source": [
    "merged_df.info()"
   ]
  },
  {
   "cell_type": "code",
   "execution_count": 41,
   "id": "e2fbfe8a-909d-441f-b391-cf2b58f81020",
   "metadata": {},
   "outputs": [
    {
     "data": {
      "text/html": [
       "<div>\n",
       "<style scoped>\n",
       "    .dataframe tbody tr th:only-of-type {\n",
       "        vertical-align: middle;\n",
       "    }\n",
       "\n",
       "    .dataframe tbody tr th {\n",
       "        vertical-align: top;\n",
       "    }\n",
       "\n",
       "    .dataframe thead th {\n",
       "        text-align: right;\n",
       "    }\n",
       "</style>\n",
       "<table border=\"1\" class=\"dataframe\">\n",
       "  <thead>\n",
       "    <tr style=\"text-align: right;\">\n",
       "      <th></th>\n",
       "      <th>customer_ID</th>\n",
       "      <th>prediction</th>\n",
       "    </tr>\n",
       "  </thead>\n",
       "  <tbody>\n",
       "    <tr>\n",
       "      <th>0</th>\n",
       "      <td>f56fdbc843bc02ad4dbc20e61b493d6905126d692eec79...</td>\n",
       "      <td>0.017970</td>\n",
       "    </tr>\n",
       "    <tr>\n",
       "      <th>1</th>\n",
       "      <td>cc3a057fe61c68bcc9865ca319226e2ea1a372769b3115...</td>\n",
       "      <td>0.043156</td>\n",
       "    </tr>\n",
       "    <tr>\n",
       "      <th>2</th>\n",
       "      <td>376a87a3d47e34a1d40b0c026fe5a7a7c801c086b13a54...</td>\n",
       "      <td>0.017051</td>\n",
       "    </tr>\n",
       "    <tr>\n",
       "      <th>3</th>\n",
       "      <td>00b513cf1a88a057c5065dc286dcb01a56a831978ea09d...</td>\n",
       "      <td>0.895407</td>\n",
       "    </tr>\n",
       "    <tr>\n",
       "      <th>4</th>\n",
       "      <td>931acc1d65abc0a68d638b69ef5a3e91fda6d14bec933e...</td>\n",
       "      <td>0.014569</td>\n",
       "    </tr>\n",
       "    <tr>\n",
       "      <th>...</th>\n",
       "      <td>...</td>\n",
       "      <td>...</td>\n",
       "    </tr>\n",
       "    <tr>\n",
       "      <th>924616</th>\n",
       "      <td>60d63bf43d55b13117986bca0b03d6a58c182ee747af98...</td>\n",
       "      <td>0.715548</td>\n",
       "    </tr>\n",
       "    <tr>\n",
       "      <th>924617</th>\n",
       "      <td>a0aac4094d863cb7cabd0b2de32634c9fefaf814153e9e...</td>\n",
       "      <td>0.758180</td>\n",
       "    </tr>\n",
       "    <tr>\n",
       "      <th>924618</th>\n",
       "      <td>2542d893ac6a5dd0c16aa0c758e3d129f2d82b93393739...</td>\n",
       "      <td>0.529055</td>\n",
       "    </tr>\n",
       "    <tr>\n",
       "      <th>924619</th>\n",
       "      <td>4abd50915c60908fed1163b87a3ce51e5985e7bc5878e4...</td>\n",
       "      <td>0.769782</td>\n",
       "    </tr>\n",
       "    <tr>\n",
       "      <th>924620</th>\n",
       "      <td>23e103fab928270fa6061a1028e192b918b73d4e73d69a...</td>\n",
       "      <td>0.636297</td>\n",
       "    </tr>\n",
       "  </tbody>\n",
       "</table>\n",
       "<p>924621 rows × 2 columns</p>\n",
       "</div>"
      ],
      "text/plain": [
       "                                              customer_ID  prediction\n",
       "0       f56fdbc843bc02ad4dbc20e61b493d6905126d692eec79...    0.017970\n",
       "1       cc3a057fe61c68bcc9865ca319226e2ea1a372769b3115...    0.043156\n",
       "2       376a87a3d47e34a1d40b0c026fe5a7a7c801c086b13a54...    0.017051\n",
       "3       00b513cf1a88a057c5065dc286dcb01a56a831978ea09d...    0.895407\n",
       "4       931acc1d65abc0a68d638b69ef5a3e91fda6d14bec933e...    0.014569\n",
       "...                                                   ...         ...\n",
       "924616  60d63bf43d55b13117986bca0b03d6a58c182ee747af98...    0.715548\n",
       "924617  a0aac4094d863cb7cabd0b2de32634c9fefaf814153e9e...    0.758180\n",
       "924618  2542d893ac6a5dd0c16aa0c758e3d129f2d82b93393739...    0.529055\n",
       "924619  4abd50915c60908fed1163b87a3ce51e5985e7bc5878e4...    0.769782\n",
       "924620  23e103fab928270fa6061a1028e192b918b73d4e73d69a...    0.636297\n",
       "\n",
       "[924621 rows x 2 columns]"
      ]
     },
     "execution_count": 41,
     "metadata": {},
     "output_type": "execute_result"
    }
   ],
   "source": [
    "merged_df"
   ]
  },
  {
   "cell_type": "code",
   "execution_count": 42,
   "id": "029bd536-ec9c-4464-aa68-157cb5cfa18b",
   "metadata": {},
   "outputs": [],
   "source": [
    "# merged_df.to_csv(\"submission_2023-11-01_17-54-58.csv\", index=False)\n",
    "# merged_df.to_csv(\"submission_2023-11-01_20-08-34.csv\", index=False)\n",
    "# merged_df.to_csv(\"submission_2023-11-04_18-06-41.csv\", index=False)\n",
    "merged_df.to_csv(\"submission_2023-11-05_14-54-16.bin.csv\", index=False)"
   ]
  },
  {
   "cell_type": "code",
   "execution_count": 43,
   "id": "33b11d92-a5af-4680-93eb-416ae2f6ddfe",
   "metadata": {},
   "outputs": [
    {
     "data": {
      "text/plain": [
       "'C:\\\\Users\\\\KonuTech\\\\zoomcamp-capstone-01\\\\notebooks'"
      ]
     },
     "execution_count": 43,
     "metadata": {},
     "output_type": "execute_result"
    }
   ],
   "source": [
    "# Get the current working directory\n",
    "current_dir = os.getcwd()\n",
    "current_dir"
   ]
  },
  {
   "cell_type": "code",
   "execution_count": 44,
   "id": "5321ab43-e7bf-4973-9248-cb0bb126f830",
   "metadata": {},
   "outputs": [
    {
     "data": {
      "text/plain": [
       "'C:\\\\Users\\\\KonuTech\\\\zoomcamp-capstone-01\\\\data'"
      ]
     },
     "execution_count": 44,
     "metadata": {},
     "output_type": "execute_result"
    }
   ],
   "source": [
    "destination_dir = os.path.join('C:\\\\', 'Users', 'KonuTech', 'zoomcamp-capstone-01', 'data')\n",
    "destination_dir"
   ]
  },
  {
   "cell_type": "code",
   "execution_count": 45,
   "id": "7a438629-b53f-4855-b812-c1c33978e655",
   "metadata": {},
   "outputs": [],
   "source": [
    "# Specify the file extension to filter (e.g., \".bin\")\n",
    "file_extension = \".csv\""
   ]
  },
  {
   "cell_type": "code",
   "execution_count": 46,
   "id": "2fa0a161-5a01-4dcf-809d-651e5894956d",
   "metadata": {},
   "outputs": [
    {
     "data": {
      "text/plain": [
       "['.ipynb_checkpoints',\n",
       " '01_prepare_train_data.ipynb',\n",
       " '02_eda.ipynb',\n",
       " '03_downsample_data.ipynb',\n",
       " '04_get_champion_binary_classifier.ipynb',\n",
       " '05_prepare_test_data.ipynb',\n",
       " '06_score_test_data.ipynb',\n",
       " 'dict_vectorizer.pkl',\n",
       " 'grid_search_results_2023-11-01_17-54-58.json',\n",
       " 'grid_search_results_2023-11-01_20-08-34.json',\n",
       " 'grid_search_results_2023-11-02_16-48-32.json',\n",
       " 'grid_search_results_2023-11-04_18-06-41.json',\n",
       " 'grid_search_results_2023-11-05_14-54-16.json',\n",
       " 'imputer.pkl',\n",
       " 'submission_2023-11-05_14-54-16.bin.csv',\n",
       " 'training_log.log']"
      ]
     },
     "execution_count": 46,
     "metadata": {},
     "output_type": "execute_result"
    }
   ],
   "source": [
    "# List files in the current working directory\n",
    "source_files = os.listdir(current_dir)\n",
    "source_files"
   ]
  },
  {
   "cell_type": "code",
   "execution_count": 47,
   "id": "88f0d522-4052-4bd7-9c01-83b7e64f5136",
   "metadata": {},
   "outputs": [],
   "source": [
    "# Move files with the specified extension\n",
    "for file in source_files:\n",
    "    if file.endswith(file_extension):\n",
    "        # Construct the source and destination paths\n",
    "        source_path = os.path.join(current_dir, file)\n",
    "        \n",
    "        # Check if the file exists before moving\n",
    "        if os.path.exists(source_path):\n",
    "            destination_path = os.path.join(destination_dir, file)\n",
    "            shutil.move(source_path, destination_path)\n",
    "        else:\n",
    "            print(f\"File not found: {file}\")"
   ]
  },
  {
   "cell_type": "code",
   "execution_count": 48,
   "id": "5940a0d7-313d-420e-b439-80c2a3a870d5",
   "metadata": {},
   "outputs": [
    {
     "name": "stdout",
     "output_type": "stream",
     "text": [
      "Moved files with extension .csv to destination directory: ['parquet_partitions', 'sample_submission.csv', 'submission_2023-11-01_17-54-58.csv', 'submission_2023-11-01_20-08-34.csv', 'submission_2023-11-04_18-06-41.csv', 'submission_2023-11-05_14-54-16.bin.csv', 'test_data.csv', 'test_data.parquet', 'test_data_randomly_sampled.parquet', 'train_data_downsampled.parquet']\n"
     ]
    }
   ],
   "source": [
    "# Verify the move operation\n",
    "destination_files = os.listdir(destination_dir)\n",
    "print(f'Moved files with extension {file_extension} to destination directory: {destination_files}')"
   ]
  },
  {
   "cell_type": "code",
   "execution_count": 49,
   "id": "8538baf2-f5f7-4f33-9882-4742a57817e1",
   "metadata": {},
   "outputs": [
    {
     "data": {
      "text/plain": [
       "['parquet_partitions',\n",
       " 'sample_submission.csv',\n",
       " 'submission_2023-11-01_17-54-58.csv',\n",
       " 'submission_2023-11-01_20-08-34.csv',\n",
       " 'submission_2023-11-04_18-06-41.csv',\n",
       " 'submission_2023-11-05_14-54-16.bin.csv',\n",
       " 'test_data.csv',\n",
       " 'test_data.parquet',\n",
       " 'test_data_randomly_sampled.parquet',\n",
       " 'train_data_downsampled.parquet']"
      ]
     },
     "execution_count": 49,
     "metadata": {},
     "output_type": "execute_result"
    }
   ],
   "source": [
    "os.listdir(destination_dir)"
   ]
  },
  {
   "cell_type": "code",
   "execution_count": 56,
   "id": "2704c92d-a08d-4b0a-bba1-f1daffc0e336",
   "metadata": {},
   "outputs": [
    {
     "data": {
      "text/plain": [
       "{'B_16': 0.1683122615936458,\n",
       " 'B_23': 0.020589636817371,\n",
       " 'B_3': 0.0187345221097178,\n",
       " 'B_30=0.0': 1.0,\n",
       " 'B_30=1.0': 0.0,\n",
       " 'B_30=2.0': 0.0,\n",
       " 'B_38=1.0': 0.0,\n",
       " 'B_38=2.0': 1.0,\n",
       " 'B_38=3.0': 0.0,\n",
       " 'B_38=4.0': 0.0,\n",
       " 'B_38=5.0': 0.0,\n",
       " 'B_38=6.0': 0.0,\n",
       " 'B_38=7.0': 0.0,\n",
       " 'B_7': 0.030808470113386,\n",
       " 'B_9': 0.0213623699449047,\n",
       " 'D_114=0.0': 0.0,\n",
       " 'D_114=1.0': 1.0,\n",
       " 'D_116=0.0': 1.0,\n",
       " 'D_116=1.0': 0.0,\n",
       " 'D_117=-1.0': 0.0,\n",
       " 'D_117=1.0': 0.0,\n",
       " 'D_117=2.0': 0.0,\n",
       " 'D_117=3.0': 1.0,\n",
       " 'D_117=4.0': 0.0,\n",
       " 'D_117=5.0': 0.0,\n",
       " 'D_117=6.0': 0.0,\n",
       " 'D_120=0.0': 1.0,\n",
       " 'D_120=1.0': 0.0,\n",
       " 'D_126=-1.0': 0.0,\n",
       " 'D_126=0.0': 0.0,\n",
       " 'D_126=1.0': 1.0,\n",
       " 'D_44': 0.0096977284989766,\n",
       " 'D_48': 0.0566975983295227,\n",
       " 'D_55': 0.0407420703650585,\n",
       " 'D_58': 0.0038394008873149,\n",
       " 'D_63=CL': 0.0,\n",
       " 'D_63=CO': 1.0,\n",
       " 'D_63=CR': 0.0,\n",
       " 'D_63=XL': 0.0,\n",
       " 'D_63=XM': 0.0,\n",
       " 'D_63=XZ': 0.0,\n",
       " 'D_64=-1': 0.0,\n",
       " 'D_64=None': 0.0,\n",
       " 'D_64=O': 1.0,\n",
       " 'D_64=R': 0.0,\n",
       " 'D_64=U': 0.0,\n",
       " 'D_66=0.0': 0.0,\n",
       " 'D_66=1.0': 1.0,\n",
       " 'D_68=0.0': 0.0,\n",
       " 'D_68=1.0': 0.0,\n",
       " 'D_68=2.0': 0.0,\n",
       " 'D_68=3.0': 0.0,\n",
       " 'D_68=4.0': 0.0,\n",
       " 'D_68=5.0': 0.0,\n",
       " 'D_68=6.0': 1.0,\n",
       " 'D_75': 0.0736767913339709,\n",
       " 'prediction': 0.01797023043036461}"
      ]
     },
     "execution_count": 56,
     "metadata": {},
     "output_type": "execute_result"
    }
   ],
   "source": [
    "df_scored.iloc[0].to_dict()"
   ]
  },
  {
   "cell_type": "code",
   "execution_count": null,
   "id": "8cdd6607-bafb-4b39-871c-50def0c16e82",
   "metadata": {},
   "outputs": [],
   "source": []
  }
 ],
 "metadata": {
  "kernelspec": {
   "display_name": "Python 3 (ipykernel)",
   "language": "python",
   "name": "python3"
  },
  "language_info": {
   "codemirror_mode": {
    "name": "ipython",
    "version": 3
   },
   "file_extension": ".py",
   "mimetype": "text/x-python",
   "name": "python",
   "nbconvert_exporter": "python",
   "pygments_lexer": "ipython3",
   "version": "3.9.3"
  }
 },
 "nbformat": 4,
 "nbformat_minor": 5
}
