{
 "cells": [
  {
   "cell_type": "markdown",
   "id": "b49b77da-3e4a-4b8e-acdb-76983fd48a70",
   "metadata": {},
   "source": [
    "https://www.kaggle.com/competitions/amex-default-prediction/data"
   ]
  },
  {
   "cell_type": "code",
   "execution_count": 1,
   "id": "6ca664f4-8863-47a7-8100-67d374cf6ceb",
   "metadata": {},
   "outputs": [],
   "source": [
    "import os\n",
    "import pandas as pd\n",
    "from sklearn.model_selection import GridSearchCV, train_test_split\n",
    "from sklearn.feature_selection import RFE\n",
    "from sklearn.pipeline import Pipeline\n",
    "from sklearn.tree import DecisionTreeClassifier\n",
    "from sklearn.ensemble import RandomForestClassifier, GradientBoostingClassifier\n",
    "from sklearn.svm import SVC\n",
    "from sklearn.linear_model import LogisticRegression\n",
    "from sklearn.naive_bayes import GaussianNB\n",
    "import xgboost as xgb\n",
    "from sklearn.preprocessing import LabelEncoder\n",
    "from sklearn.metrics import f1_score\n",
    "from sklearn.feature_extraction import DictVectorizer\n",
    "from sklearn.impute import SimpleImputer\n",
    "# from imblearn.under_sampling import RandomUnderSampler"
   ]
  },
  {
   "cell_type": "code",
   "execution_count": 2,
   "id": "7a8e0118-5b17-43f7-9f55-31744869bc52",
   "metadata": {},
   "outputs": [
    {
     "data": {
      "text/plain": [
       "'C:\\\\Users\\\\KonuTech\\\\zoomcamp-capstone-01\\\\data'"
      ]
     },
     "execution_count": 2,
     "metadata": {},
     "output_type": "execute_result"
    }
   ],
   "source": [
    "# Define the directory path\n",
    "data_dir = os.path.join('C:\\\\', 'Users', 'KonuTech', 'zoomcamp-capstone-01', 'data')\n",
    "data_dir"
   ]
  },
  {
   "cell_type": "code",
   "execution_count": 3,
   "id": "82c245dd-e98d-4f19-8290-2cf73399cc3a",
   "metadata": {},
   "outputs": [],
   "source": [
    "train_data_parquet_file = 'train_data.parquet'"
   ]
  },
  {
   "cell_type": "code",
   "execution_count": 4,
   "id": "197f7d40-dc1a-445b-9eef-87124b2daa29",
   "metadata": {},
   "outputs": [],
   "source": [
    "train_labels_parquet_file = 'train_labels.parquet'"
   ]
  },
  {
   "cell_type": "code",
   "execution_count": 5,
   "id": "68265588-1f42-43d9-842c-f8b82c8c9953",
   "metadata": {},
   "outputs": [],
   "source": [
    "# Load the training labels\n",
    "train_labels = pd.read_parquet(os.path.join(data_dir, train_labels_parquet_file))"
   ]
  },
  {
   "cell_type": "code",
   "execution_count": 6,
   "id": "205fbec1-24db-4865-8f48-370a05c13abe",
   "metadata": {},
   "outputs": [
    {
     "name": "stdout",
     "output_type": "stream",
     "text": [
      "<class 'pandas.core.frame.DataFrame'>\n",
      "RangeIndex: 458913 entries, 0 to 458912\n",
      "Data columns (total 2 columns):\n",
      " #   Column       Non-Null Count   Dtype \n",
      "---  ------       --------------   ----- \n",
      " 0   customer_ID  458913 non-null  object\n",
      " 1   target       458913 non-null  int64 \n",
      "dtypes: int64(1), object(1)\n",
      "memory usage: 7.0+ MB\n"
     ]
    }
   ],
   "source": [
    "train_labels.info(verbose=True)"
   ]
  },
  {
   "cell_type": "code",
   "execution_count": 7,
   "id": "f31126a4-3616-40df-b9d0-0f06c2f5734e",
   "metadata": {},
   "outputs": [],
   "source": [
    "# Load the training data\n",
    "train_data = pd.read_parquet(os.path.join(data_dir, train_data_parquet_file))"
   ]
  },
  {
   "cell_type": "code",
   "execution_count": 8,
   "id": "fea0b334-4971-4557-aa3b-b17ad5ff517a",
   "metadata": {},
   "outputs": [
    {
     "name": "stdout",
     "output_type": "stream",
     "text": [
      "<class 'pandas.core.frame.DataFrame'>\n",
      "Index: 458913 entries, 0 to 5531438\n",
      "Data columns (total 190 columns):\n",
      " #    Column       Dtype  \n",
      "---   ------       -----  \n",
      " 0    customer_ID  object \n",
      " 1    S_2          object \n",
      " 2    P_2          float64\n",
      " 3    D_39         float64\n",
      " 4    B_1          float64\n",
      " 5    B_2          float64\n",
      " 6    R_1          float64\n",
      " 7    S_3          float64\n",
      " 8    D_41         float64\n",
      " 9    B_3          float64\n",
      " 10   D_42         float64\n",
      " 11   D_43         float64\n",
      " 12   D_44         float64\n",
      " 13   B_4          float64\n",
      " 14   D_45         float64\n",
      " 15   B_5          float64\n",
      " 16   R_2          float64\n",
      " 17   D_46         float64\n",
      " 18   D_47         float64\n",
      " 19   D_48         float64\n",
      " 20   D_49         float64\n",
      " 21   B_6          float64\n",
      " 22   B_7          float64\n",
      " 23   B_8          float64\n",
      " 24   D_50         float64\n",
      " 25   D_51         float64\n",
      " 26   B_9          float64\n",
      " 27   R_3          float64\n",
      " 28   D_52         float64\n",
      " 29   P_3          float64\n",
      " 30   B_10         float64\n",
      " 31   D_53         float64\n",
      " 32   S_5          float64\n",
      " 33   B_11         float64\n",
      " 34   S_6          float64\n",
      " 35   D_54         float64\n",
      " 36   R_4          float64\n",
      " 37   S_7          float64\n",
      " 38   B_12         float64\n",
      " 39   S_8          float64\n",
      " 40   D_55         float64\n",
      " 41   D_56         float64\n",
      " 42   B_13         float64\n",
      " 43   R_5          float64\n",
      " 44   D_58         float64\n",
      " 45   S_9          float64\n",
      " 46   B_14         float64\n",
      " 47   D_59         float64\n",
      " 48   D_60         float64\n",
      " 49   D_61         float64\n",
      " 50   B_15         float64\n",
      " 51   S_11         float64\n",
      " 52   D_62         float64\n",
      " 53   D_63         object \n",
      " 54   D_64         object \n",
      " 55   D_65         float64\n",
      " 56   B_16         float64\n",
      " 57   B_17         float64\n",
      " 58   B_18         float64\n",
      " 59   B_19         float64\n",
      " 60   D_66         float64\n",
      " 61   B_20         float64\n",
      " 62   D_68         float64\n",
      " 63   S_12         float64\n",
      " 64   R_6          float64\n",
      " 65   S_13         float64\n",
      " 66   B_21         float64\n",
      " 67   D_69         float64\n",
      " 68   B_22         float64\n",
      " 69   D_70         float64\n",
      " 70   D_71         float64\n",
      " 71   D_72         float64\n",
      " 72   S_15         float64\n",
      " 73   B_23         float64\n",
      " 74   D_73         float64\n",
      " 75   P_4          float64\n",
      " 76   D_74         float64\n",
      " 77   D_75         float64\n",
      " 78   D_76         float64\n",
      " 79   B_24         float64\n",
      " 80   R_7          float64\n",
      " 81   D_77         float64\n",
      " 82   B_25         float64\n",
      " 83   B_26         float64\n",
      " 84   D_78         float64\n",
      " 85   D_79         float64\n",
      " 86   R_8          float64\n",
      " 87   R_9          float64\n",
      " 88   S_16         float64\n",
      " 89   D_80         float64\n",
      " 90   R_10         float64\n",
      " 91   R_11         float64\n",
      " 92   B_27         float64\n",
      " 93   D_81         float64\n",
      " 94   D_82         float64\n",
      " 95   S_17         float64\n",
      " 96   R_12         float64\n",
      " 97   B_28         float64\n",
      " 98   R_13         float64\n",
      " 99   D_83         float64\n",
      " 100  R_14         float64\n",
      " 101  R_15         float64\n",
      " 102  D_84         float64\n",
      " 103  R_16         float64\n",
      " 104  B_29         float64\n",
      " 105  B_30         float64\n",
      " 106  S_18         float64\n",
      " 107  D_86         float64\n",
      " 108  D_87         float64\n",
      " 109  R_17         float64\n",
      " 110  R_18         float64\n",
      " 111  D_88         float64\n",
      " 112  B_31         int64  \n",
      " 113  S_19         float64\n",
      " 114  R_19         float64\n",
      " 115  B_32         float64\n",
      " 116  S_20         float64\n",
      " 117  R_20         float64\n",
      " 118  R_21         float64\n",
      " 119  B_33         float64\n",
      " 120  D_89         float64\n",
      " 121  R_22         float64\n",
      " 122  R_23         float64\n",
      " 123  D_91         float64\n",
      " 124  D_92         float64\n",
      " 125  D_93         float64\n",
      " 126  D_94         float64\n",
      " 127  R_24         float64\n",
      " 128  R_25         float64\n",
      " 129  D_96         float64\n",
      " 130  S_22         float64\n",
      " 131  S_23         float64\n",
      " 132  S_24         float64\n",
      " 133  S_25         float64\n",
      " 134  S_26         float64\n",
      " 135  D_102        float64\n",
      " 136  D_103        float64\n",
      " 137  D_104        float64\n",
      " 138  D_105        float64\n",
      " 139  D_106        float64\n",
      " 140  D_107        float64\n",
      " 141  B_36         float64\n",
      " 142  B_37         float64\n",
      " 143  R_26         float64\n",
      " 144  R_27         float64\n",
      " 145  B_38         float64\n",
      " 146  D_108        float64\n",
      " 147  D_109        float64\n",
      " 148  D_110        float64\n",
      " 149  D_111        float64\n",
      " 150  B_39         float64\n",
      " 151  D_112        float64\n",
      " 152  B_40         float64\n",
      " 153  S_27         float64\n",
      " 154  D_113        float64\n",
      " 155  D_114        float64\n",
      " 156  D_115        float64\n",
      " 157  D_116        float64\n",
      " 158  D_117        float64\n",
      " 159  D_118        float64\n",
      " 160  D_119        float64\n",
      " 161  D_120        float64\n",
      " 162  D_121        float64\n",
      " 163  D_122        float64\n",
      " 164  D_123        float64\n",
      " 165  D_124        float64\n",
      " 166  D_125        float64\n",
      " 167  D_126        float64\n",
      " 168  D_127        float64\n",
      " 169  D_128        float64\n",
      " 170  D_129        float64\n",
      " 171  B_41         float64\n",
      " 172  B_42         float64\n",
      " 173  D_130        float64\n",
      " 174  D_131        float64\n",
      " 175  D_132        float64\n",
      " 176  D_133        float64\n",
      " 177  R_28         float64\n",
      " 178  D_134        float64\n",
      " 179  D_135        float64\n",
      " 180  D_136        float64\n",
      " 181  D_137        float64\n",
      " 182  D_138        float64\n",
      " 183  D_139        float64\n",
      " 184  D_140        float64\n",
      " 185  D_141        float64\n",
      " 186  D_142        float64\n",
      " 187  D_143        float64\n",
      " 188  D_144        float64\n",
      " 189  D_145        float64\n",
      "dtypes: float64(185), int64(1), object(4)\n",
      "memory usage: 668.7+ MB\n"
     ]
    }
   ],
   "source": [
    "train_data.info(verbose=True)"
   ]
  },
  {
   "cell_type": "code",
   "execution_count": 30,
   "id": "fe165705-f417-46c8-9c6d-fecd75b10676",
   "metadata": {},
   "outputs": [
    {
     "data": {
      "text/plain": [
       "'C:\\\\Users\\\\KonuTech\\\\zoomcamp-capstone-01\\\\data'"
      ]
     },
     "execution_count": 30,
     "metadata": {},
     "output_type": "execute_result"
    }
   ],
   "source": [
    "# Define the directory path\n",
    "data_dir = os.path.join('C:\\\\', 'Users', 'KonuTech', 'zoomcamp-capstone-01', 'data')\n",
    "data_dir"
   ]
  },
  {
   "cell_type": "code",
   "execution_count": 33,
   "id": "2cdf80e2-39b7-4f1f-8682-59266860c5e2",
   "metadata": {},
   "outputs": [],
   "source": [
    "# Step 1: Read the CSV file in chunks\n",
    "csv_file = 'train_data.csv'"
   ]
  },
  {
   "cell_type": "code",
   "execution_count": 34,
   "id": "c1eb7a9f-494a-4f16-8d8d-18aecbaee892",
   "metadata": {},
   "outputs": [],
   "source": [
    "# Create a TextFileReader, which is iterable with chunks of 10,000 rows.\n",
    "train_data = pd.read_csv(os.path.join(data_dir, csv_file))"
   ]
  },
  {
   "cell_type": "code",
   "execution_count": 36,
   "id": "0fd1c71d-1ca5-40dc-a687-c945f0a08eee",
   "metadata": {},
   "outputs": [
    {
     "name": "stdout",
     "output_type": "stream",
     "text": [
      "<class 'pandas.core.frame.DataFrame'>\n",
      "RangeIndex: 5531451 entries, 0 to 5531450\n",
      "Columns: 190 entries, customer_ID to D_145\n",
      "dtypes: float64(185), int64(1), object(4)\n",
      "memory usage: 7.8+ GB\n"
     ]
    }
   ],
   "source": [
    "train_data.info()"
   ]
  },
  {
   "cell_type": "code",
   "execution_count": 9,
   "id": "35bce7b7-3fad-4c18-889c-0b192e50a323",
   "metadata": {},
   "outputs": [],
   "source": [
    "selected_rows = [0, 2, 5, 7]"
   ]
  },
  {
   "cell_type": "code",
   "execution_count": 35,
   "id": "e28e241e-4bd5-40b7-bb6d-f8c52fd6a120",
   "metadata": {},
   "outputs": [
    {
     "ename": "ValueError",
     "evalue": "Found input variables with inconsistent numbers of samples: [5531451, 458913]",
     "output_type": "error",
     "traceback": [
      "\u001b[1;31m-----------------------------------------------------------------\u001b[0m",
      "\u001b[1;31mValueError\u001b[0m                      Traceback (most recent call last)",
      "Cell \u001b[1;32mIn[35], line 2\u001b[0m\n\u001b[0;32m      1\u001b[0m \u001b[38;5;66;03m# Split the dataset into train and validation sets\u001b[39;00m\n\u001b[1;32m----> 2\u001b[0m X_train, X_val, y_train, y_val \u001b[38;5;241m=\u001b[39m \u001b[43mtrain_test_split\u001b[49m\u001b[43m(\u001b[49m\u001b[43mtrain_data\u001b[49m\u001b[43m,\u001b[49m\u001b[43m \u001b[49m\u001b[43mtrain_labels\u001b[49m\u001b[43m,\u001b[49m\u001b[43m \u001b[49m\u001b[43mtest_size\u001b[49m\u001b[38;5;241;43m=\u001b[39;49m\u001b[38;5;241;43m0.2\u001b[39;49m\u001b[43m,\u001b[49m\u001b[43m \u001b[49m\u001b[43mrandom_state\u001b[49m\u001b[38;5;241;43m=\u001b[39;49m\u001b[38;5;241;43m42\u001b[39;49m\u001b[43m)\u001b[49m\n\u001b[0;32m      3\u001b[0m \u001b[38;5;66;03m# X_train, X_val, y_train, y_val = train_test_split(train_data.iloc[selected_rows], train_labels.iloc[selected_rows], test_size=0.2, random_state=42)\u001b[39;00m\n",
      "File \u001b[1;32mc:\\users\\konutech\\zoomcamp-capstone-01\\venv\\lib\\site-packages\\sklearn\\utils\\_param_validation.py:214\u001b[0m, in \u001b[0;36mvalidate_params.<locals>.decorator.<locals>.wrapper\u001b[1;34m(*args, **kwargs)\u001b[0m\n\u001b[0;32m    208\u001b[0m \u001b[38;5;28;01mtry\u001b[39;00m:\n\u001b[0;32m    209\u001b[0m     \u001b[38;5;28;01mwith\u001b[39;00m config_context(\n\u001b[0;32m    210\u001b[0m         skip_parameter_validation\u001b[38;5;241m=\u001b[39m(\n\u001b[0;32m    211\u001b[0m             prefer_skip_nested_validation \u001b[38;5;129;01mor\u001b[39;00m global_skip_validation\n\u001b[0;32m    212\u001b[0m         )\n\u001b[0;32m    213\u001b[0m     ):\n\u001b[1;32m--> 214\u001b[0m         \u001b[38;5;28;01mreturn\u001b[39;00m func(\u001b[38;5;241m*\u001b[39margs, \u001b[38;5;241m*\u001b[39m\u001b[38;5;241m*\u001b[39mkwargs)\n\u001b[0;32m    215\u001b[0m \u001b[38;5;28;01mexcept\u001b[39;00m InvalidParameterError \u001b[38;5;28;01mas\u001b[39;00m e:\n\u001b[0;32m    216\u001b[0m     \u001b[38;5;66;03m# When the function is just a wrapper around an estimator, we allow\u001b[39;00m\n\u001b[0;32m    217\u001b[0m     \u001b[38;5;66;03m# the function to delegate validation to the estimator, but we replace\u001b[39;00m\n\u001b[0;32m    218\u001b[0m     \u001b[38;5;66;03m# the name of the estimator by the name of the function in the error\u001b[39;00m\n\u001b[0;32m    219\u001b[0m     \u001b[38;5;66;03m# message to avoid confusion.\u001b[39;00m\n\u001b[0;32m    220\u001b[0m     msg \u001b[38;5;241m=\u001b[39m re\u001b[38;5;241m.\u001b[39msub(\n\u001b[0;32m    221\u001b[0m         \u001b[38;5;124mr\u001b[39m\u001b[38;5;124m\"\u001b[39m\u001b[38;5;124mparameter of \u001b[39m\u001b[38;5;124m\\\u001b[39m\u001b[38;5;124mw+ must be\u001b[39m\u001b[38;5;124m\"\u001b[39m,\n\u001b[0;32m    222\u001b[0m         \u001b[38;5;124mf\u001b[39m\u001b[38;5;124m\"\u001b[39m\u001b[38;5;124mparameter of \u001b[39m\u001b[38;5;132;01m{\u001b[39;00mfunc\u001b[38;5;241m.\u001b[39m\u001b[38;5;18m__qualname__\u001b[39m\u001b[38;5;132;01m}\u001b[39;00m\u001b[38;5;124m must be\u001b[39m\u001b[38;5;124m\"\u001b[39m,\n\u001b[0;32m    223\u001b[0m         \u001b[38;5;28mstr\u001b[39m(e),\n\u001b[0;32m    224\u001b[0m     )\n",
      "File \u001b[1;32mc:\\users\\konutech\\zoomcamp-capstone-01\\venv\\lib\\site-packages\\sklearn\\model_selection\\_split.py:2646\u001b[0m, in \u001b[0;36mtrain_test_split\u001b[1;34m(test_size, train_size, random_state, shuffle, stratify, *arrays)\u001b[0m\n\u001b[0;32m   2643\u001b[0m \u001b[38;5;28;01mif\u001b[39;00m n_arrays \u001b[38;5;241m==\u001b[39m \u001b[38;5;241m0\u001b[39m:\n\u001b[0;32m   2644\u001b[0m     \u001b[38;5;28;01mraise\u001b[39;00m \u001b[38;5;167;01mValueError\u001b[39;00m(\u001b[38;5;124m\"\u001b[39m\u001b[38;5;124mAt least one array required as input\u001b[39m\u001b[38;5;124m\"\u001b[39m)\n\u001b[1;32m-> 2646\u001b[0m arrays \u001b[38;5;241m=\u001b[39m \u001b[43mindexable\u001b[49m\u001b[43m(\u001b[49m\u001b[38;5;241;43m*\u001b[39;49m\u001b[43marrays\u001b[49m\u001b[43m)\u001b[49m\n\u001b[0;32m   2648\u001b[0m n_samples \u001b[38;5;241m=\u001b[39m _num_samples(arrays[\u001b[38;5;241m0\u001b[39m])\n\u001b[0;32m   2649\u001b[0m n_train, n_test \u001b[38;5;241m=\u001b[39m _validate_shuffle_split(\n\u001b[0;32m   2650\u001b[0m     n_samples, test_size, train_size, default_test_size\u001b[38;5;241m=\u001b[39m\u001b[38;5;241m0.25\u001b[39m\n\u001b[0;32m   2651\u001b[0m )\n",
      "File \u001b[1;32mc:\\users\\konutech\\zoomcamp-capstone-01\\venv\\lib\\site-packages\\sklearn\\utils\\validation.py:453\u001b[0m, in \u001b[0;36mindexable\u001b[1;34m(*iterables)\u001b[0m\n\u001b[0;32m    434\u001b[0m \u001b[38;5;250m\u001b[39m\u001b[38;5;124;03m\"\"\"Make arrays indexable for cross-validation.\u001b[39;00m\n\u001b[0;32m    435\u001b[0m \n\u001b[0;32m    436\u001b[0m \u001b[38;5;124;03mChecks consistent length, passes through None, and ensures that everything\u001b[39;00m\n\u001b[1;32m   (...)\u001b[0m\n\u001b[0;32m    449\u001b[0m \u001b[38;5;124;03m    sparse matrix, or dataframe) or `None`.\u001b[39;00m\n\u001b[0;32m    450\u001b[0m \u001b[38;5;124;03m\"\"\"\u001b[39;00m\n\u001b[0;32m    452\u001b[0m result \u001b[38;5;241m=\u001b[39m [_make_indexable(X) \u001b[38;5;28;01mfor\u001b[39;00m X \u001b[38;5;129;01min\u001b[39;00m iterables]\n\u001b[1;32m--> 453\u001b[0m \u001b[43mcheck_consistent_length\u001b[49m\u001b[43m(\u001b[49m\u001b[38;5;241;43m*\u001b[39;49m\u001b[43mresult\u001b[49m\u001b[43m)\u001b[49m\n\u001b[0;32m    454\u001b[0m \u001b[38;5;28;01mreturn\u001b[39;00m result\n",
      "File \u001b[1;32mc:\\users\\konutech\\zoomcamp-capstone-01\\venv\\lib\\site-packages\\sklearn\\utils\\validation.py:407\u001b[0m, in \u001b[0;36mcheck_consistent_length\u001b[1;34m(*arrays)\u001b[0m\n\u001b[0;32m    405\u001b[0m uniques \u001b[38;5;241m=\u001b[39m np\u001b[38;5;241m.\u001b[39munique(lengths)\n\u001b[0;32m    406\u001b[0m \u001b[38;5;28;01mif\u001b[39;00m \u001b[38;5;28mlen\u001b[39m(uniques) \u001b[38;5;241m>\u001b[39m \u001b[38;5;241m1\u001b[39m:\n\u001b[1;32m--> 407\u001b[0m     \u001b[38;5;28;01mraise\u001b[39;00m \u001b[38;5;167;01mValueError\u001b[39;00m(\n\u001b[0;32m    408\u001b[0m         \u001b[38;5;124m\"\u001b[39m\u001b[38;5;124mFound input variables with inconsistent numbers of samples: \u001b[39m\u001b[38;5;132;01m%r\u001b[39;00m\u001b[38;5;124m\"\u001b[39m\n\u001b[0;32m    409\u001b[0m         \u001b[38;5;241m%\u001b[39m [\u001b[38;5;28mint\u001b[39m(l) \u001b[38;5;28;01mfor\u001b[39;00m l \u001b[38;5;129;01min\u001b[39;00m lengths]\n\u001b[0;32m    410\u001b[0m     )\n",
      "\u001b[1;31mValueError\u001b[0m: Found input variables with inconsistent numbers of samples: [5531451, 458913]"
     ]
    }
   ],
   "source": [
    "# Split the dataset into train and validation sets\n",
    "X_train, X_val, y_train, y_val = train_test_split(train_data, train_labels, test_size=0.2, random_state=42)\n",
    "# X_train, X_val, y_train, y_val = train_test_split(train_data.iloc[selected_rows], train_labels.iloc[selected_rows], test_size=0.2, random_state=42)"
   ]
  },
  {
   "cell_type": "code",
   "execution_count": 22,
   "id": "fb1cca85-a4bf-4104-96df-ddeaba08e173",
   "metadata": {},
   "outputs": [
    {
     "data": {
      "text/html": [
       "<div>\n",
       "<style scoped>\n",
       "    .dataframe tbody tr th:only-of-type {\n",
       "        vertical-align: middle;\n",
       "    }\n",
       "\n",
       "    .dataframe tbody tr th {\n",
       "        vertical-align: top;\n",
       "    }\n",
       "\n",
       "    .dataframe thead th {\n",
       "        text-align: right;\n",
       "    }\n",
       "</style>\n",
       "<table border=\"1\" class=\"dataframe\">\n",
       "  <thead>\n",
       "    <tr style=\"text-align: right;\">\n",
       "      <th></th>\n",
       "      <th>R_1</th>\n",
       "    </tr>\n",
       "  </thead>\n",
       "  <tbody>\n",
       "    <tr>\n",
       "      <th>3397488</th>\n",
       "      <td>0.008139</td>\n",
       "    </tr>\n",
       "    <tr>\n",
       "      <th>4055870</th>\n",
       "      <td>0.505918</td>\n",
       "    </tr>\n",
       "    <tr>\n",
       "      <th>4004713</th>\n",
       "      <td>0.002230</td>\n",
       "    </tr>\n",
       "    <tr>\n",
       "      <th>973646</th>\n",
       "      <td>0.007517</td>\n",
       "    </tr>\n",
       "    <tr>\n",
       "      <th>4131026</th>\n",
       "      <td>0.008254</td>\n",
       "    </tr>\n",
       "    <tr>\n",
       "      <th>...</th>\n",
       "      <td>...</td>\n",
       "    </tr>\n",
       "    <tr>\n",
       "      <th>3124558</th>\n",
       "      <td>0.009464</td>\n",
       "    </tr>\n",
       "    <tr>\n",
       "      <th>4409503</th>\n",
       "      <td>0.008132</td>\n",
       "    </tr>\n",
       "    <tr>\n",
       "      <th>1591348</th>\n",
       "      <td>0.000575</td>\n",
       "    </tr>\n",
       "    <tr>\n",
       "      <th>1771384</th>\n",
       "      <td>0.007154</td>\n",
       "    </tr>\n",
       "    <tr>\n",
       "      <th>1470970</th>\n",
       "      <td>0.001326</td>\n",
       "    </tr>\n",
       "  </tbody>\n",
       "</table>\n",
       "<p>367130 rows × 1 columns</p>\n",
       "</div>"
      ],
      "text/plain": [
       "              R_1\n",
       "3397488  0.008139\n",
       "4055870  0.505918\n",
       "4004713  0.002230\n",
       "973646   0.007517\n",
       "4131026  0.008254\n",
       "...           ...\n",
       "3124558  0.009464\n",
       "4409503  0.008132\n",
       "1591348  0.000575\n",
       "1771384  0.007154\n",
       "1470970  0.001326\n",
       "\n",
       "[367130 rows x 1 columns]"
      ]
     },
     "execution_count": 22,
     "metadata": {},
     "output_type": "execute_result"
    }
   ],
   "source": [
    "X_train[[\"R_1\"]]"
   ]
  },
  {
   "cell_type": "code",
   "execution_count": 23,
   "id": "81fd1d6c-a85d-49da-9993-dba6bc037648",
   "metadata": {},
   "outputs": [
    {
     "data": {
      "text/plain": [
       "(367130, 190)"
      ]
     },
     "execution_count": 23,
     "metadata": {},
     "output_type": "execute_result"
    }
   ],
   "source": [
    "X_train.shape"
   ]
  },
  {
   "cell_type": "code",
   "execution_count": 24,
   "id": "908f8be2-d1d7-4b24-b097-388c8940c2c1",
   "metadata": {},
   "outputs": [
    {
     "name": "stdout",
     "output_type": "stream",
     "text": [
      "Step 1: Excluding 'customer_ID', 'S_2' and creating a DictVectorizer\n"
     ]
    }
   ],
   "source": [
    "print(f\"Step 1: Excluding 'customer_ID', 'S_2' and creating a DictVectorizer\")\n",
    "\n",
    "# Exclude 'customer_ID' column and create a DictVectorizer\n",
    "dict_vectorizer = DictVectorizer(sparse=False)\n",
    "\n",
    "# X_train_dict = X_train.drop(columns=['customer_ID', \"S_2\"]).to_dict(orient='records')\n",
    "# X_val_dict = X_val.drop(columns=['customer_ID', \"S_2\"]).to_dict(orient='records')\n",
    "\n",
    "X_train_dict = X_train[[\"R_1\"]].fillna(0).to_dict(orient='records')\n",
    "X_val_dict = X_train[[\"R_1\"]].fillna(0).to_dict(orient='records')\n",
    "\n",
    "# X_train_dict = X_train.drop(columns=['customer_ID', \"S_2\"]).fillna(0).to_dict(orient='records')\n",
    "# X_val_dict = X_train.drop(columns=['customer_ID', \"S_2\"]).fillna(0).to_dict(orient='records')\n",
    "\n",
    "X_train_encoded = dict_vectorizer.fit_transform(X_train_dict)\n",
    "X_val_encoded = dict_vectorizer.transform(X_val_dict)"
   ]
  },
  {
   "cell_type": "code",
   "execution_count": 25,
   "id": "045d9c68-25d0-45cc-9c6f-8b3d11df3dba",
   "metadata": {},
   "outputs": [
    {
     "data": {
      "text/plain": [
       "1"
      ]
     },
     "execution_count": 25,
     "metadata": {},
     "output_type": "execute_result"
    }
   ],
   "source": [
    "len(dict_vectorizer.get_feature_names_out())"
   ]
  },
  {
   "cell_type": "code",
   "execution_count": 26,
   "id": "19ab5bd7-fa0b-48eb-9e5b-c20e82e3b313",
   "metadata": {},
   "outputs": [
    {
     "data": {
      "text/plain": [
       "array(['R_1'], dtype=object)"
      ]
     },
     "execution_count": 26,
     "metadata": {},
     "output_type": "execute_result"
    }
   ],
   "source": [
    "dict_vectorizer.get_feature_names_out()"
   ]
  },
  {
   "cell_type": "code",
   "execution_count": 27,
   "id": "bfff2b92-1e59-4fc7-bda1-07ec8b421476",
   "metadata": {},
   "outputs": [
    {
     "data": {
      "text/plain": [
       "array([0.00813852])"
      ]
     },
     "execution_count": 27,
     "metadata": {},
     "output_type": "execute_result"
    }
   ],
   "source": [
    "X_train_encoded[0]"
   ]
  },
  {
   "cell_type": "code",
   "execution_count": 28,
   "id": "4abf7915-c2bf-446a-97e0-8ef6d6959311",
   "metadata": {},
   "outputs": [],
   "source": [
    "# Define a list of classifiers to try\n",
    "classifiers = [\n",
    "    ('DecisionTree', DecisionTreeClassifier(), {\n",
    "        'classifier__max_depth': [None, 10]\n",
    "    }),\n",
    "    ('RandomForest', RandomForestClassifier(), {\n",
    "        'classifier__n_estimators': [100, 200],\n",
    "        'classifier__max_depth': [None, 10]\n",
    "    }),\n",
    "    ('SVM', SVC(), {\n",
    "        'classifier__C': [0.1, 1.0],\n",
    "        'classifier__kernel': ['linear', 'rbf']\n",
    "    }),\n",
    "    ('LogisticRegression', LogisticRegression(), {\n",
    "        'classifier__C': [0.1, 1.0],\n",
    "        'classifier__penalty': ['l1', 'l2']\n",
    "    }),\n",
    "    ('GradientBoosting', GradientBoostingClassifier(), {\n",
    "        'classifier__n_estimators': [50, 100],\n",
    "        'classifier__max_depth': [3, 5]\n",
    "    }),\n",
    "    ('NaiveBayes', GaussianNB(), {}),\n",
    "    ('XGBoost', xgb.XGBClassifier(), {\n",
    "        'classifier__n_estimators': [50, 100],\n",
    "        'classifier__max_depth': [3, 5]\n",
    "    }),\n",
    "]"
   ]
  },
  {
   "cell_type": "code",
   "execution_count": 29,
   "id": "0908dfd2-9cea-45f7-bdfc-ed3669053c87",
   "metadata": {},
   "outputs": [
    {
     "name": "stdout",
     "output_type": "stream",
     "text": [
      "Step 2: Training DecisionTree classifier\n",
      "Step 3: Performing hyperparameter tuning\n"
     ]
    },
    {
     "ename": "TypeError",
     "evalue": "'<' not supported between instances of 'int' and 'str'",
     "output_type": "error",
     "traceback": [
      "\u001b[1;31m-----------------------------------------------------------------\u001b[0m",
      "\u001b[1;31mTypeError\u001b[0m                       Traceback (most recent call last)",
      "Cell \u001b[1;32mIn[29], line 22\u001b[0m\n\u001b[0;32m     20\u001b[0m \u001b[38;5;66;03m# Perform hyperparameter tuning\u001b[39;00m\n\u001b[0;32m     21\u001b[0m grid \u001b[38;5;241m=\u001b[39m GridSearchCV(pipeline, param_grid\u001b[38;5;241m=\u001b[39mparams, cv\u001b[38;5;241m=\u001b[39m\u001b[38;5;241m5\u001b[39m, n_jobs\u001b[38;5;241m=\u001b[39m\u001b[38;5;241m-\u001b[39m\u001b[38;5;241m1\u001b[39m)\n\u001b[1;32m---> 22\u001b[0m \u001b[43mgrid\u001b[49m\u001b[38;5;241;43m.\u001b[39;49m\u001b[43mfit\u001b[49m\u001b[43m(\u001b[49m\u001b[43mX_train_encoded\u001b[49m\u001b[43m,\u001b[49m\u001b[43m \u001b[49m\u001b[43my_train\u001b[49m\u001b[43m)\u001b[49m\n\u001b[0;32m     24\u001b[0m \u001b[38;5;28mprint\u001b[39m(\u001b[38;5;124mf\u001b[39m\u001b[38;5;124m\"\u001b[39m\u001b[38;5;124mStep \u001b[39m\u001b[38;5;132;01m{\u001b[39;00mi\u001b[38;5;250m \u001b[39m\u001b[38;5;241m+\u001b[39m\u001b[38;5;250m \u001b[39m\u001b[38;5;241m3\u001b[39m\u001b[38;5;132;01m}\u001b[39;00m\u001b[38;5;124m: Evaluating the best model on the validation set using F1 score\u001b[39m\u001b[38;5;124m\"\u001b[39m)\n\u001b[0;32m     26\u001b[0m \u001b[38;5;66;03m# Evaluate the best model on the validation set using F1 score\u001b[39;00m\n",
      "File \u001b[1;32mc:\\users\\konutech\\zoomcamp-capstone-01\\venv\\lib\\site-packages\\sklearn\\base.py:1152\u001b[0m, in \u001b[0;36m_fit_context.<locals>.decorator.<locals>.wrapper\u001b[1;34m(estimator, *args, **kwargs)\u001b[0m\n\u001b[0;32m   1145\u001b[0m     estimator\u001b[38;5;241m.\u001b[39m_validate_params()\n\u001b[0;32m   1147\u001b[0m \u001b[38;5;28;01mwith\u001b[39;00m config_context(\n\u001b[0;32m   1148\u001b[0m     skip_parameter_validation\u001b[38;5;241m=\u001b[39m(\n\u001b[0;32m   1149\u001b[0m         prefer_skip_nested_validation \u001b[38;5;129;01mor\u001b[39;00m global_skip_validation\n\u001b[0;32m   1150\u001b[0m     )\n\u001b[0;32m   1151\u001b[0m ):\n\u001b[1;32m-> 1152\u001b[0m     \u001b[38;5;28;01mreturn\u001b[39;00m fit_method(estimator, \u001b[38;5;241m*\u001b[39margs, \u001b[38;5;241m*\u001b[39m\u001b[38;5;241m*\u001b[39mkwargs)\n",
      "File \u001b[1;32mc:\\users\\konutech\\zoomcamp-capstone-01\\venv\\lib\\site-packages\\sklearn\\model_selection\\_search.py:809\u001b[0m, in \u001b[0;36mBaseSearchCV.fit\u001b[1;34m(self, X, y, groups, **fit_params)\u001b[0m\n\u001b[0;32m    806\u001b[0m X, y, groups \u001b[38;5;241m=\u001b[39m indexable(X, y, groups)\n\u001b[0;32m    807\u001b[0m fit_params \u001b[38;5;241m=\u001b[39m _check_fit_params(X, fit_params)\n\u001b[1;32m--> 809\u001b[0m cv_orig \u001b[38;5;241m=\u001b[39m \u001b[43mcheck_cv\u001b[49m\u001b[43m(\u001b[49m\u001b[38;5;28;43mself\u001b[39;49m\u001b[38;5;241;43m.\u001b[39;49m\u001b[43mcv\u001b[49m\u001b[43m,\u001b[49m\u001b[43m \u001b[49m\u001b[43my\u001b[49m\u001b[43m,\u001b[49m\u001b[43m \u001b[49m\u001b[43mclassifier\u001b[49m\u001b[38;5;241;43m=\u001b[39;49m\u001b[43mis_classifier\u001b[49m\u001b[43m(\u001b[49m\u001b[43mestimator\u001b[49m\u001b[43m)\u001b[49m\u001b[43m)\u001b[49m\n\u001b[0;32m    810\u001b[0m n_splits \u001b[38;5;241m=\u001b[39m cv_orig\u001b[38;5;241m.\u001b[39mget_n_splits(X, y, groups)\n\u001b[0;32m    812\u001b[0m base_estimator \u001b[38;5;241m=\u001b[39m clone(\u001b[38;5;28mself\u001b[39m\u001b[38;5;241m.\u001b[39mestimator)\n",
      "File \u001b[1;32mc:\\users\\konutech\\zoomcamp-capstone-01\\venv\\lib\\site-packages\\sklearn\\model_selection\\_split.py:2514\u001b[0m, in \u001b[0;36mcheck_cv\u001b[1;34m(cv, y, classifier)\u001b[0m\n\u001b[0;32m   2509\u001b[0m cv \u001b[38;5;241m=\u001b[39m \u001b[38;5;241m5\u001b[39m \u001b[38;5;28;01mif\u001b[39;00m cv \u001b[38;5;129;01mis\u001b[39;00m \u001b[38;5;28;01mNone\u001b[39;00m \u001b[38;5;28;01melse\u001b[39;00m cv\n\u001b[0;32m   2510\u001b[0m \u001b[38;5;28;01mif\u001b[39;00m \u001b[38;5;28misinstance\u001b[39m(cv, numbers\u001b[38;5;241m.\u001b[39mIntegral):\n\u001b[0;32m   2511\u001b[0m     \u001b[38;5;28;01mif\u001b[39;00m (\n\u001b[0;32m   2512\u001b[0m         classifier\n\u001b[0;32m   2513\u001b[0m         \u001b[38;5;129;01mand\u001b[39;00m (y \u001b[38;5;129;01mis\u001b[39;00m \u001b[38;5;129;01mnot\u001b[39;00m \u001b[38;5;28;01mNone\u001b[39;00m)\n\u001b[1;32m-> 2514\u001b[0m         \u001b[38;5;129;01mand\u001b[39;00m (\u001b[43mtype_of_target\u001b[49m\u001b[43m(\u001b[49m\u001b[43my\u001b[49m\u001b[43m,\u001b[49m\u001b[43m \u001b[49m\u001b[43minput_name\u001b[49m\u001b[38;5;241;43m=\u001b[39;49m\u001b[38;5;124;43m\"\u001b[39;49m\u001b[38;5;124;43my\u001b[39;49m\u001b[38;5;124;43m\"\u001b[39;49m\u001b[43m)\u001b[49m \u001b[38;5;129;01min\u001b[39;00m (\u001b[38;5;124m\"\u001b[39m\u001b[38;5;124mbinary\u001b[39m\u001b[38;5;124m\"\u001b[39m, \u001b[38;5;124m\"\u001b[39m\u001b[38;5;124mmulticlass\u001b[39m\u001b[38;5;124m\"\u001b[39m))\n\u001b[0;32m   2515\u001b[0m     ):\n\u001b[0;32m   2516\u001b[0m         \u001b[38;5;28;01mreturn\u001b[39;00m StratifiedKFold(cv)\n\u001b[0;32m   2517\u001b[0m     \u001b[38;5;28;01melse\u001b[39;00m:\n",
      "File \u001b[1;32mc:\\users\\konutech\\zoomcamp-capstone-01\\venv\\lib\\site-packages\\sklearn\\utils\\multiclass.py:311\u001b[0m, in \u001b[0;36mtype_of_target\u001b[1;34m(y, input_name)\u001b[0m\n\u001b[0;32m    308\u001b[0m \u001b[38;5;28;01mif\u001b[39;00m sparse_pandas:\n\u001b[0;32m    309\u001b[0m     \u001b[38;5;28;01mraise\u001b[39;00m \u001b[38;5;167;01mValueError\u001b[39;00m(\u001b[38;5;124m\"\u001b[39m\u001b[38;5;124my cannot be class \u001b[39m\u001b[38;5;124m'\u001b[39m\u001b[38;5;124mSparseSeries\u001b[39m\u001b[38;5;124m'\u001b[39m\u001b[38;5;124m or \u001b[39m\u001b[38;5;124m'\u001b[39m\u001b[38;5;124mSparseArray\u001b[39m\u001b[38;5;124m'\u001b[39m\u001b[38;5;124m\"\u001b[39m)\n\u001b[1;32m--> 311\u001b[0m \u001b[38;5;28;01mif\u001b[39;00m \u001b[43mis_multilabel\u001b[49m\u001b[43m(\u001b[49m\u001b[43my\u001b[49m\u001b[43m)\u001b[49m:\n\u001b[0;32m    312\u001b[0m     \u001b[38;5;28;01mreturn\u001b[39;00m \u001b[38;5;124m\"\u001b[39m\u001b[38;5;124mmultilabel-indicator\u001b[39m\u001b[38;5;124m\"\u001b[39m\n\u001b[0;32m    314\u001b[0m \u001b[38;5;66;03m# DeprecationWarning will be replaced by ValueError, see NEP 34\u001b[39;00m\n\u001b[0;32m    315\u001b[0m \u001b[38;5;66;03m# https://numpy.org/neps/nep-0034-infer-dtype-is-object.html\u001b[39;00m\n\u001b[0;32m    316\u001b[0m \u001b[38;5;66;03m# We therefore catch both deprecation (NumPy < 1.24) warning and\u001b[39;00m\n\u001b[0;32m    317\u001b[0m \u001b[38;5;66;03m# value error (NumPy >= 1.24).\u001b[39;00m\n",
      "File \u001b[1;32mc:\\users\\konutech\\zoomcamp-capstone-01\\venv\\lib\\site-packages\\sklearn\\utils\\multiclass.py:189\u001b[0m, in \u001b[0;36mis_multilabel\u001b[1;34m(y)\u001b[0m\n\u001b[0;32m    183\u001b[0m     \u001b[38;5;28;01mreturn\u001b[39;00m (\n\u001b[0;32m    184\u001b[0m         \u001b[38;5;28mlen\u001b[39m(y\u001b[38;5;241m.\u001b[39mdata) \u001b[38;5;241m==\u001b[39m \u001b[38;5;241m0\u001b[39m\n\u001b[0;32m    185\u001b[0m         \u001b[38;5;129;01mor\u001b[39;00m (labels\u001b[38;5;241m.\u001b[39msize \u001b[38;5;241m==\u001b[39m \u001b[38;5;241m1\u001b[39m \u001b[38;5;129;01mor\u001b[39;00m (labels\u001b[38;5;241m.\u001b[39msize \u001b[38;5;241m==\u001b[39m \u001b[38;5;241m2\u001b[39m) \u001b[38;5;129;01mand\u001b[39;00m (\u001b[38;5;241m0\u001b[39m \u001b[38;5;129;01min\u001b[39;00m labels))\n\u001b[0;32m    186\u001b[0m         \u001b[38;5;129;01mand\u001b[39;00m (y\u001b[38;5;241m.\u001b[39mdtype\u001b[38;5;241m.\u001b[39mkind \u001b[38;5;129;01min\u001b[39;00m \u001b[38;5;124m\"\u001b[39m\u001b[38;5;124mbiu\u001b[39m\u001b[38;5;124m\"\u001b[39m \u001b[38;5;129;01mor\u001b[39;00m _is_integral_float(labels))  \u001b[38;5;66;03m# bool, int, uint\u001b[39;00m\n\u001b[0;32m    187\u001b[0m     )\n\u001b[0;32m    188\u001b[0m \u001b[38;5;28;01melse\u001b[39;00m:\n\u001b[1;32m--> 189\u001b[0m     labels \u001b[38;5;241m=\u001b[39m \u001b[43mxp\u001b[49m\u001b[38;5;241;43m.\u001b[39;49m\u001b[43munique_values\u001b[49m\u001b[43m(\u001b[49m\u001b[43my\u001b[49m\u001b[43m)\u001b[49m\n\u001b[0;32m    191\u001b[0m     \u001b[38;5;28;01mreturn\u001b[39;00m \u001b[38;5;28mlen\u001b[39m(labels) \u001b[38;5;241m<\u001b[39m \u001b[38;5;241m3\u001b[39m \u001b[38;5;129;01mand\u001b[39;00m (\n\u001b[0;32m    192\u001b[0m         y\u001b[38;5;241m.\u001b[39mdtype\u001b[38;5;241m.\u001b[39mkind \u001b[38;5;129;01min\u001b[39;00m \u001b[38;5;124m\"\u001b[39m\u001b[38;5;124mbiu\u001b[39m\u001b[38;5;124m\"\u001b[39m \u001b[38;5;129;01mor\u001b[39;00m _is_integral_float(labels)  \u001b[38;5;66;03m# bool, int, uint\u001b[39;00m\n\u001b[0;32m    193\u001b[0m     )\n",
      "File \u001b[1;32mc:\\users\\konutech\\zoomcamp-capstone-01\\venv\\lib\\site-packages\\sklearn\\utils\\_array_api.py:262\u001b[0m, in \u001b[0;36m_NumPyAPIWrapper.unique_values\u001b[1;34m(self, x)\u001b[0m\n\u001b[0;32m    261\u001b[0m \u001b[38;5;28;01mdef\u001b[39;00m \u001b[38;5;21munique_values\u001b[39m(\u001b[38;5;28mself\u001b[39m, x):\n\u001b[1;32m--> 262\u001b[0m     \u001b[38;5;28;01mreturn\u001b[39;00m \u001b[43mnumpy\u001b[49m\u001b[38;5;241;43m.\u001b[39;49m\u001b[43munique\u001b[49m\u001b[43m(\u001b[49m\u001b[43mx\u001b[49m\u001b[43m)\u001b[49m\n",
      "File \u001b[1;32mc:\\users\\konutech\\zoomcamp-capstone-01\\venv\\lib\\site-packages\\numpy\\lib\\arraysetops.py:274\u001b[0m, in \u001b[0;36munique\u001b[1;34m(ar, return_index, return_inverse, return_counts, axis, equal_nan)\u001b[0m\n\u001b[0;32m    272\u001b[0m ar \u001b[38;5;241m=\u001b[39m np\u001b[38;5;241m.\u001b[39masanyarray(ar)\n\u001b[0;32m    273\u001b[0m \u001b[38;5;28;01mif\u001b[39;00m axis \u001b[38;5;129;01mis\u001b[39;00m \u001b[38;5;28;01mNone\u001b[39;00m:\n\u001b[1;32m--> 274\u001b[0m     ret \u001b[38;5;241m=\u001b[39m \u001b[43m_unique1d\u001b[49m\u001b[43m(\u001b[49m\u001b[43mar\u001b[49m\u001b[43m,\u001b[49m\u001b[43m \u001b[49m\u001b[43mreturn_index\u001b[49m\u001b[43m,\u001b[49m\u001b[43m \u001b[49m\u001b[43mreturn_inverse\u001b[49m\u001b[43m,\u001b[49m\u001b[43m \u001b[49m\u001b[43mreturn_counts\u001b[49m\u001b[43m,\u001b[49m\u001b[43m \u001b[49m\n\u001b[0;32m    275\u001b[0m \u001b[43m                    \u001b[49m\u001b[43mequal_nan\u001b[49m\u001b[38;5;241;43m=\u001b[39;49m\u001b[43mequal_nan\u001b[49m\u001b[43m)\u001b[49m\n\u001b[0;32m    276\u001b[0m     \u001b[38;5;28;01mreturn\u001b[39;00m _unpack_tuple(ret)\n\u001b[0;32m    278\u001b[0m \u001b[38;5;66;03m# axis was specified and not None\u001b[39;00m\n",
      "File \u001b[1;32mc:\\users\\konutech\\zoomcamp-capstone-01\\venv\\lib\\site-packages\\numpy\\lib\\arraysetops.py:336\u001b[0m, in \u001b[0;36m_unique1d\u001b[1;34m(ar, return_index, return_inverse, return_counts, equal_nan)\u001b[0m\n\u001b[0;32m    334\u001b[0m     aux \u001b[38;5;241m=\u001b[39m ar[perm]\n\u001b[0;32m    335\u001b[0m \u001b[38;5;28;01melse\u001b[39;00m:\n\u001b[1;32m--> 336\u001b[0m     \u001b[43mar\u001b[49m\u001b[38;5;241;43m.\u001b[39;49m\u001b[43msort\u001b[49m\u001b[43m(\u001b[49m\u001b[43m)\u001b[49m\n\u001b[0;32m    337\u001b[0m     aux \u001b[38;5;241m=\u001b[39m ar\n\u001b[0;32m    338\u001b[0m mask \u001b[38;5;241m=\u001b[39m np\u001b[38;5;241m.\u001b[39mempty(aux\u001b[38;5;241m.\u001b[39mshape, dtype\u001b[38;5;241m=\u001b[39mnp\u001b[38;5;241m.\u001b[39mbool_)\n",
      "\u001b[1;31mTypeError\u001b[0m: '<' not supported between instances of 'int' and 'str'"
     ]
    }
   ],
   "source": [
    "results = []\n",
    "\n",
    "for i, (name, classifier, params) in enumerate(classifiers, start=1):\n",
    "    print(f\"Step {i + 1}: Training {name} classifier\")\n",
    "\n",
    "    # Create an RFE model and a pipeline\n",
    "    rfe = RFE(estimator=classifier, n_features_to_select=5)\n",
    "\n",
    "    # Add a step to impute missing values with the median\n",
    "    imputer = SimpleImputer(strategy='median')  # You can choose a different strategy\n",
    "\n",
    "    pipeline = Pipeline([\n",
    "        ('imputer', imputer),  # Add the imputation step\n",
    "        ('feature_selection', rfe),\n",
    "        ('classifier', classifier)\n",
    "    ])\n",
    "\n",
    "    print(f\"Step {i + 2}: Performing hyperparameter tuning\")\n",
    "\n",
    "    # Perform hyperparameter tuning\n",
    "    grid = GridSearchCV(pipeline, param_grid=params, cv=5, n_jobs=-1)\n",
    "    grid.fit(X_train_encoded, y_train)\n",
    "\n",
    "    print(f\"Step {i + 3}: Evaluating the best model on the validation set using F1 score\")\n",
    "\n",
    "    # Evaluate the best model on the validation set using F1 score\n",
    "    y_pred = grid.predict(X_val_encoded)\n",
    "    f1 = f1_score(y_val, y_pred)\n",
    "\n",
    "    results.append((name, f1, grid.best_params_))\n",
    "\n",
    "# Print the results\n",
    "for name, f1, best_params in results:\n",
    "    print(f'{name}: F1 Score={f1:.2f}, Best Params={best_params}')\n"
   ]
  },
  {
   "cell_type": "code",
   "execution_count": null,
   "id": "af9e37dc-c0b6-49dc-8319-9b2cb44ec396",
   "metadata": {},
   "outputs": [],
   "source": []
  },
  {
   "cell_type": "code",
   "execution_count": null,
   "id": "fc7c5a35-fbbf-417d-a1eb-74c3e9c18fb2",
   "metadata": {},
   "outputs": [],
   "source": []
  }
 ],
 "metadata": {
  "kernelspec": {
   "display_name": "Python 3 (ipykernel)",
   "language": "python",
   "name": "python3"
  },
  "language_info": {
   "codemirror_mode": {
    "name": "ipython",
    "version": 3
   },
   "file_extension": ".py",
   "mimetype": "text/x-python",
   "name": "python",
   "nbconvert_exporter": "python",
   "pygments_lexer": "ipython3",
   "version": "3.9.3"
  }
 },
 "nbformat": 4,
 "nbformat_minor": 5
}
